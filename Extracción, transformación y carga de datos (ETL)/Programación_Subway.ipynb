{
  "nbformat": 4,
  "nbformat_minor": 0,
  "metadata": {
    "colab": {
      "provenance": [],
      "include_colab_link": true
    },
    "kernelspec": {
      "name": "python3",
      "display_name": "Python 3"
    },
    "language_info": {
      "name": "python"
    }
  },
  "cells": [
    {
      "cell_type": "markdown",
      "metadata": {
        "id": "view-in-github",
        "colab_type": "text"
      },
      "source": [
        "<a href=\"https://colab.research.google.com/github/NeskaCleo/MonicaGlez/blob/main/Extracci%C3%B3n%2C%20transformaci%C3%B3n%20y%20carga%20de%20datos%20(ETL)/Programaci%C3%B3n_Subway.ipynb\" target=\"_parent\"><img src=\"https://colab.research.google.com/assets/colab-badge.svg\" alt=\"Open In Colab\"/></a>"
      ]
    },
    {
      "cell_type": "code",
      "execution_count": null,
      "metadata": {
        "id": "gcHWqTNsR5MH"
      },
      "outputs": [],
      "source": [
        "from google.colab import drive\n",
        "drive.mount('/content/drive')"
      ]
    },
    {
      "cell_type": "code",
      "source": [
        "!pip install --upgrade google-cloud-storage\n",
        "import os\n",
        "from google.cloud import storage\n",
        "import json\n",
        "import pandas as pd\n",
        "import numpy as np\n",
        "\n",
        "from google.cloud.storage import Blob\n",
        "\n",
        "from datetime import date\n",
        "import datetime\n",
        "import time\n",
        "\n",
        "import requests\n",
        "\n",
        "!pip install aspose-cells\n",
        "import jpype\n",
        "import asposecells\n",
        "\n",
        "from urllib.request import Request, urlopen\n",
        "from bs4 import BeautifulSoup\n",
        "\n",
        "os.environ[\"GOOGLE_APPLICATION_CREDENTIALS\"] = 'credencialcav.json'"
      ],
      "metadata": {
        "id": "HrgKG421Ss_y"
      },
      "execution_count": null,
      "outputs": []
    },
    {
      "cell_type": "code",
      "source": [
        "def getFilesList(_carpeta):\n",
        "\n",
        "    client = storage.Client()\n",
        "    bucket = client.bucket('practica_etl')\n",
        "\n",
        "    blobs = client.list_blobs('practica_etl', prefix=_carpeta)\n",
        "\n",
        "    lista = []\n",
        "\n",
        "    for blob in blobs:\n",
        "        lista.append(blob.name)\n",
        "\n",
        "    return lista\n",
        "\n",
        "def getFile(_route):\n",
        "\n",
        "    client = storage.Client()\n",
        "\n",
        "    bucket = client.bucket('practica_etl')\n",
        "\n",
        "    blob = bucket.blob(_route)\n",
        "\n",
        "    content = blob.download_as_string()\n",
        "\n",
        "    return content"
      ],
      "metadata": {
        "id": "5ZXAvC1Sgjrr"
      },
      "execution_count": null,
      "outputs": []
    },
    {
      "cell_type": "code",
      "source": [
        "url = 'https://servicios.ine.es/wstempus/js/es/DATOS_TABLA/33791?tip=AM'\n",
        "json_1 = requests.get(url).text\n"
      ],
      "metadata": {
        "id": "Lj9GE__vS33f"
      },
      "execution_count": null,
      "outputs": []
    },
    {
      "cell_type": "code",
      "source": [
        "data = json.loads(json_1)"
      ],
      "metadata": {
        "id": "8wJJ02mA_j16"
      },
      "execution_count": null,
      "outputs": []
    },
    {
      "cell_type": "code",
      "source": [
        "df_datosanyo_a = pd.json_normalize(data, record_path =['Data'], meta=['COD'])\n",
        "df_datosvari_a = pd.json_normalize(data, record_path =['MetaData'], meta=['COD'])\n"
      ],
      "metadata": {
        "id": "x1_yYhndHSXM"
      },
      "execution_count": null,
      "outputs": []
    },
    {
      "cell_type": "code",
      "source": [
        "df_datosanyo = df_datosanyo_a.pivot(index = 'COD', columns= 'Anyo', values = 'Valor' )\n",
        "df_datosvari = df_datosvari_a.pivot(index = 'COD', columns= 'Variable.Nombre', values = 'Nombre' )"
      ],
      "metadata": {
        "id": "MRrfRS6N5ChP"
      },
      "execution_count": null,
      "outputs": []
    },
    {
      "cell_type": "code",
      "source": [
        "dftot = pd.merge(df_datosvari,df_datosanyo, left_on='COD', right_on='COD')"
      ],
      "metadata": {
        "id": "npzDqXSdb8pO"
      },
      "execution_count": null,
      "outputs": []
    },
    {
      "cell_type": "code",
      "source": [
        "dftot"
      ],
      "metadata": {
        "id": "6s2VXmGTfWC-"
      },
      "execution_count": null,
      "outputs": []
    },
    {
      "cell_type": "code",
      "source": [
        "dflimp = dftot"
      ],
      "metadata": {
        "id": "K5hcs5PDdlFX"
      },
      "execution_count": null,
      "outputs": []
    },
    {
      "cell_type": "code",
      "source": [
        "dflimp.drop(['Continentes', 'Países y Continentes','Tipo de dato', 'Zonas Geográficas del Resto del Mundo'], axis = 1, inplace=True)"
      ],
      "metadata": {
        "id": "wQqgDXZseV5E"
      },
      "execution_count": null,
      "outputs": []
    },
    {
      "cell_type": "code",
      "source": [
        "print(dflimp[dflimp['Sexo']=='Total'])"
      ],
      "metadata": {
        "id": "1AnMW7F9mwhc"
      },
      "execution_count": null,
      "outputs": []
    },
    {
      "cell_type": "code",
      "source": [
        "dflimp"
      ],
      "metadata": {
        "id": "fnrpHH2ZezOi"
      },
      "execution_count": null,
      "outputs": []
    },
    {
      "cell_type": "code",
      "source": [
        "dflimp1=dflimp[dflimp['Sexo']=='Total']"
      ],
      "metadata": {
        "id": "TnuzEVDXhT0K"
      },
      "execution_count": null,
      "outputs": []
    },
    {
      "cell_type": "code",
      "source": [
        "dflimp1"
      ],
      "metadata": {
        "id": "Ogij4jJRmd0X"
      },
      "execution_count": null,
      "outputs": []
    },
    {
      "cell_type": "code",
      "source": [
        "dflimp1.drop(['Sexo', 'Provincias'], axis = 1, inplace=True)"
      ],
      "metadata": {
        "id": "5mIk4TeKnQ9v"
      },
      "execution_count": null,
      "outputs": []
    },
    {
      "cell_type": "code",
      "source": [
        "dflimp1"
      ],
      "metadata": {
        "id": "6JptR5f5nl1H"
      },
      "execution_count": null,
      "outputs": []
    },
    {
      "cell_type": "code",
      "source": [
        "dflimp2 = dflimp1[dflimp1.Municipios.notnull()]# Eliminamos las poblaciones vacias"
      ],
      "metadata": {
        "id": "7bJvimWrp3Me"
      },
      "execution_count": null,
      "outputs": []
    },
    {
      "cell_type": "code",
      "source": [
        "dflimp2"
      ],
      "metadata": {
        "id": "w8rTwoFzqJZP"
      },
      "execution_count": null,
      "outputs": []
    },
    {
      "cell_type": "code",
      "source": [
        "dflimp3 = dflimp2[dflimp2.Países.notnull()]# Eliminamos los paises vacios"
      ],
      "metadata": {
        "id": "9uhaHgKCqcgW"
      },
      "execution_count": null,
      "outputs": []
    },
    {
      "cell_type": "code",
      "source": [
        "dflimp3"
      ],
      "metadata": {
        "id": "_Sn7zbmPqvZQ"
      },
      "execution_count": null,
      "outputs": []
    },
    {
      "cell_type": "code",
      "source": [
        "print(dflimp3[dflimp3['Municipios']=='Vilopriu'])\n",
        "# Con esto comprobamos que los datos concuerdan. En este caso el valor extranjero sería el total de el resto valores de paises menos España."
      ],
      "metadata": {
        "id": "o2c_pUy8rAyD"
      },
      "execution_count": null,
      "outputs": []
    },
    {
      "cell_type": "code",
      "source": [
        "dflimp4 = dflimp3[dflimp3['Países']!='Extranjero']# Hemos hecho un filtrado y ahora tengo los datos limpios sin el valor extranjero"
      ],
      "metadata": {
        "id": "h-QcWw-ws6dZ"
      },
      "execution_count": null,
      "outputs": []
    },
    {
      "cell_type": "code",
      "source": [
        "print(dflimp4[dflimp4['Municipios']=='Vilopriu'])"
      ],
      "metadata": {
        "id": "DZhmiyjitavO"
      },
      "execution_count": null,
      "outputs": []
    },
    {
      "cell_type": "code",
      "source": [
        "dflimp4"
      ],
      "metadata": {
        "id": "RJ3RUuSFtTB0"
      },
      "execution_count": null,
      "outputs": []
    },
    {
      "cell_type": "code",
      "source": [
        "dflimp5= dflimp4.fillna(0)"
      ],
      "metadata": {
        "id": "C3ss6rsbuFGF"
      },
      "execution_count": null,
      "outputs": []
    },
    {
      "cell_type": "code",
      "source": [
        "dflimp5"
      ],
      "metadata": {
        "id": "dt43SnWDuRRA"
      },
      "execution_count": null,
      "outputs": []
    },
    {
      "cell_type": "code",
      "source": [
        "jslimp5= dflimp5.to_json (orient = 'index' , force_ascii= False)"
      ],
      "metadata": {
        "id": "JB9KLjssZ6P2"
      },
      "execution_count": null,
      "outputs": []
    },
    {
      "cell_type": "code",
      "source": [
        "def saveGcloud(_data, _name, _ruta):\n",
        "\n",
        "    client = storage.Client()\n",
        "    bucket = client.bucket('practica_etl')\n",
        "\n",
        "    blob = bucket.blob(_ruta + _name)\n",
        "    blob.upload_from_string(_data)\n",
        "\n",
        "    print('Subido correctamente')"
      ],
      "metadata": {
        "id": "5usczswYb4Id"
      },
      "execution_count": null,
      "outputs": []
    },
    {
      "cell_type": "code",
      "source": [
        "ruta = 'datoslimpios/poblacion/'\n",
        "archivo = 'Girona.json'\n",
        "\n",
        "saveGcloud(jslimp5, archivo, ruta)"
      ],
      "metadata": {
        "id": "HkUrPAxBb6Nb"
      },
      "execution_count": null,
      "outputs": []
    },
    {
      "cell_type": "code",
      "source": [
        "jslimp5"
      ],
      "metadata": {
        "id": "X0bnKcYec4PB"
      },
      "execution_count": null,
      "outputs": []
    },
    {
      "cell_type": "code",
      "source": [
        "# Archivo CSV"
      ],
      "metadata": {
        "id": "CilOAvw2LJ3Q"
      },
      "execution_count": null,
      "outputs": []
    },
    {
      "cell_type": "code",
      "source": [
        "df_raw = pd.read_csv('/content/drive/MyDrive/Proyecto_final_ETL/TFA - Proyecto 02 - Postal codes2.csv',sep = \";\", encoding='utf-8')\n"
      ],
      "metadata": {
        "id": "zDpNisGOPUkX"
      },
      "execution_count": null,
      "outputs": []
    },
    {
      "cell_type": "markdown",
      "source": [],
      "metadata": {
        "id": "6z0421r3rJ92"
      }
    },
    {
      "cell_type": "code",
      "source": [
        "df_raw"
      ],
      "metadata": {
        "id": "vAtzXRiAPx_-"
      },
      "execution_count": null,
      "outputs": []
    },
    {
      "cell_type": "code",
      "source": [
        "prov=df_raw[\"provincia\"].str.split('/', expand=True)"
      ],
      "metadata": {
        "id": "e7WYgfhWobK1"
      },
      "execution_count": null,
      "outputs": []
    },
    {
      "cell_type": "code",
      "source": [
        "prov"
      ],
      "metadata": {
        "id": "yvv_f3xEopEI"
      },
      "execution_count": null,
      "outputs": []
    },
    {
      "cell_type": "code",
      "source": [
        "prov.columns = ['prov_loc', 'Provincia']"
      ],
      "metadata": {
        "id": "tiuJJRIvo0KO"
      },
      "execution_count": null,
      "outputs": []
    },
    {
      "cell_type": "code",
      "source": [
        "prov.columns"
      ],
      "metadata": {
        "id": "ZsN1ksoxpJVR"
      },
      "execution_count": null,
      "outputs": []
    },
    {
      "cell_type": "code",
      "source": [
        "df = pd.concat([df_raw, prov], axis=1)\n",
        "df"
      ],
      "metadata": {
        "id": "z7YyEJrypScc"
      },
      "execution_count": null,
      "outputs": []
    },
    {
      "cell_type": "code",
      "source": [
        "pobl=df[\"poblacion\"].str.split('/', expand=True)"
      ],
      "metadata": {
        "id": "GqTiFyEwqMV-"
      },
      "execution_count": null,
      "outputs": []
    },
    {
      "cell_type": "code",
      "source": [
        "pobl"
      ],
      "metadata": {
        "id": "lX9pBHIjsWMH"
      },
      "execution_count": null,
      "outputs": []
    },
    {
      "cell_type": "code",
      "source": [
        "pobl.columns = ['ciudad_loc', 'ciudad_trf']"
      ],
      "metadata": {
        "id": "J578N12IsqrX"
      },
      "execution_count": null,
      "outputs": []
    },
    {
      "cell_type": "code",
      "source": [
        "df1 = pd.concat([df, pobl], axis=1)\n",
        "df1"
      ],
      "metadata": {
        "id": "yWVGZ7iJtJv8"
      },
      "execution_count": null,
      "outputs": []
    },
    {
      "cell_type": "code",
      "source": [
        "import numpy as np"
      ],
      "metadata": {
        "id": "bQrVMFgVW1tm"
      },
      "execution_count": null,
      "outputs": []
    },
    {
      "cell_type": "code",
      "source": [
        "df1['provNueva']= np.where(df1['Provincia'].isnull(), df1['prov_loc'], df1['Provincia'] )"
      ],
      "metadata": {
        "id": "Ea3_0r5qWZ6f"
      },
      "execution_count": null,
      "outputs": []
    },
    {
      "cell_type": "code",
      "source": [
        "df1['poblNueva']= np.where(df1['ciudad_trf'].isnull(), df1['ciudad_loc'], df1['ciudad_trf'] )"
      ],
      "metadata": {
        "id": "wLnKQjrObh4G"
      },
      "execution_count": null,
      "outputs": []
    },
    {
      "cell_type": "code",
      "source": [
        "df1"
      ],
      "metadata": {
        "id": "94iY8xTxXfg7"
      },
      "execution_count": null,
      "outputs": []
    },
    {
      "cell_type": "code",
      "source": [
        "df1.drop(['provincia', 'poblacion', 'Provincia', 'ciudad_trf'], axis = 1, inplace=True)"
      ],
      "metadata": {
        "id": "X3_5g4qo81hJ"
      },
      "execution_count": null,
      "outputs": []
    },
    {
      "cell_type": "code",
      "source": [
        "df1"
      ],
      "metadata": {
        "id": "UItkXJCIvmjK"
      },
      "execution_count": null,
      "outputs": []
    },
    {
      "cell_type": "code",
      "source": [
        "df1.columns"
      ],
      "metadata": {
        "id": "jUw_9b8lyOj2"
      },
      "execution_count": null,
      "outputs": []
    },
    {
      "cell_type": "code",
      "source": [
        "\n",
        "df1.columns = ['Código Postal', 'Provincia_loc', 'Ciudad_loc', 'Provincia', 'Poblacion']\n",
        "df1.columns"
      ],
      "metadata": {
        "id": "o00qbI3lyTXx"
      },
      "execution_count": null,
      "outputs": []
    },
    {
      "cell_type": "code",
      "source": [
        "df1"
      ],
      "metadata": {
        "id": "OCkma8MUy3_R"
      },
      "execution_count": null,
      "outputs": []
    },
    {
      "cell_type": "code",
      "source": [
        "df1limp= df1.to_json (orient = 'index' , force_ascii= False)"
      ],
      "metadata": {
        "id": "jpys6auzzb0G"
      },
      "execution_count": null,
      "outputs": []
    },
    {
      "cell_type": "code",
      "source": [
        "ruta = 'datoslimpios/provincia/'\n",
        "archivo = 'Provincia.json'\n",
        "\n",
        "saveGcloud(df1limp, archivo, ruta)"
      ],
      "metadata": {
        "id": "r3ZEKRFH0Uzz"
      },
      "execution_count": null,
      "outputs": []
    },
    {
      "cell_type": "code",
      "source": [
        "# datos gooble"
      ],
      "metadata": {
        "id": "TqlIKi1nZHBS"
      },
      "execution_count": null,
      "outputs": []
    },
    {
      "cell_type": "code",
      "source": [
        "import csv\n",
        "#\n",
        "with open('/content/drive/MyDrive/Proyecto_final_ETL/URL_JSON.csv', newline='') as File:\n",
        "    reader = csv.reader(File)\n",
        "    next(reader, None)\n",
        "    for row in reader:\n",
        "        print(row[0])"
      ],
      "metadata": {
        "id": "LG3FdDIytazx"
      },
      "execution_count": null,
      "outputs": []
    },
    {
      "cell_type": "code",
      "source": [
        "cont = 0\n",
        "import csv\n",
        "#Datos de origen, fichero CSV con filas de URLS del INEN.\n",
        "with open('/content/drive/MyDrive/Proyecto_final_ETL/URL_JSON.csv', newline='') as File:\n",
        "    reader = csv.reader(File)\n",
        "    next(reader, None)\n",
        "    for row in reader:\n",
        "            print(cont)\n",
        "            archivo = 'población_' + str(cont) + '.json'\n",
        "            url1= row[0]\n",
        "\n",
        "\n",
        "            json_1 = requests.get(url1).text\n",
        "\n",
        "            data = json.loads(json_1)\n",
        "\n",
        "            df_datosanyo_a = pd.json_normalize(data, record_path =['Data'], meta=['COD'])\n",
        "            df_datosvari_a = pd.json_normalize(data, record_path =['MetaData'], meta=['COD'])\n",
        "\n",
        "            df_datosanyo = df_datosanyo_a.pivot(index = 'COD', columns= 'Anyo', values = 'Valor' )\n",
        "            df_datosvari = df_datosvari_a.pivot(index = 'COD', columns= 'Variable.Nombre', values = 'Nombre' )\n",
        "            df_datosvari_2 = df_datosvari.reindex(columns=['Municipios','Sexo','Nacionalidad','Totales de edad'])\n",
        "            dftot = pd.merge(df_datosvari_2,df_datosanyo, left_on='COD', right_on='COD')\n",
        "\n",
        "            dflimp = dftot\n",
        "\n",
        "            dflimp1=dflimp[dflimp['Sexo']=='Total']\n",
        "            dflimp1=dflimp1[dflimp1['Totales de edad']=='Todas las edades']\n",
        "\n",
        "            dflimp1.drop(['Sexo','Totales de edad'], axis = 1, inplace=True)\n",
        "\n",
        "            dflimp2 = dflimp1[dflimp1.Municipios.notnull()]# Eliminamos las poblaciones vacias\n",
        "            dflimp3=dflimp2[dflimp2['Nacionalidad']!='Total']\n",
        "            dflimp4= dflimp3.fillna(0)\n",
        "\n",
        "            jslimp4= dflimp4.to_json (orient = 'index' , force_ascii= False)\n",
        "\n",
        "            ruta = 'datoslimpios/poblacion/'\n",
        "\n",
        "\n",
        "            saveGcloud(jslimp4, archivo, ruta)\n",
        "            cont+=1"
      ],
      "metadata": {
        "id": "SPL17BJ4aABL"
      },
      "execution_count": null,
      "outputs": []
    },
    {
      "cell_type": "code",
      "source": [
        "cont = 0\n",
        "\n",
        "archivo = 'población_' + str(cont) + '.json'\n",
        "url1='https://servicios.ine.es/wstempus/js/es/DATOS_TABLA/33723?tip=AM'\n",
        "\n",
        "\n",
        "json_1 = requests.get(url1).text\n",
        "\n",
        "data = json.loads(json_1)\n",
        "\n",
        "df_datosanyo_a = pd.json_normalize(data, record_path =['Data'], meta=['COD'])\n",
        "df_datosvari_a = pd.json_normalize(data, record_path =['MetaData'], meta=['COD'])"
      ],
      "metadata": {
        "id": "tJTetAR5xWiJ"
      },
      "execution_count": null,
      "outputs": []
    },
    {
      "cell_type": "code",
      "source": [
        "data"
      ],
      "metadata": {
        "id": "2IOdZ10g4SRh"
      },
      "execution_count": null,
      "outputs": []
    },
    {
      "cell_type": "code",
      "source": [
        "df_datosanyo = df_datosanyo_a.pivot(index = 'COD', columns= 'Anyo', values = 'Valor' )\n",
        "df_datosvari = df_datosvari_a.pivot(index = 'COD', columns= 'Variable.Nombre', values = 'Nombre' )\n",
        "df_datosvari_2 = df_datosvari.reindex(columns=['Municipios','Sexo','Nacionalidad','Totales de edad'])\n",
        "dftot = pd.merge(df_datosvari_2,df_datosanyo, left_on='COD', right_on='COD')\n",
        "\n",
        "dflimp = dftot\n",
        "\n",
        "dflimp1=dflimp[dflimp['Sexo']=='Total']\n",
        "dflimp1=dflimp1[dflimp1['Totales de edad']=='Todas las edades']\n",
        "\n",
        "dflimp1.drop(['Sexo','Totales de edad'], axis = 1, inplace=True)\n",
        "\n",
        "dflimp2 = dflimp1[dflimp1.Municipios.notnull()]# Eliminamos las poblaciones vacias\n",
        "dflimp3=dflimp2[dflimp2['Nacionalidad']!='Total']\n",
        "dflimp4= dflimp3.fillna(0)\n",
        "\n",
        "#jslimp4= dflimp4.to_json (orient = 'index' , force_ascii= False)\n",
        "\n",
        "#ruta = 'datoslimpios/poblacion/'\n",
        "\n"
      ],
      "metadata": {
        "id": "_mg8ZWJNyA3m"
      },
      "execution_count": null,
      "outputs": []
    },
    {
      "cell_type": "code",
      "source": [
        "dflimp4"
      ],
      "metadata": {
        "id": "GnkKI5ZRxmGi"
      },
      "execution_count": null,
      "outputs": []
    }
  ]
}