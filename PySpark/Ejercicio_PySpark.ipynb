{
  "nbformat": 4,
  "nbformat_minor": 0,
  "metadata": {
    "colab": {
      "provenance": [],
      "authorship_tag": "ABX9TyMYI04ikC+0N71TRvI2oe1q",
      "include_colab_link": true
    },
    "kernelspec": {
      "name": "python3",
      "display_name": "Python 3"
    },
    "language_info": {
      "name": "python"
    }
  },
  "cells": [
    {
      "cell_type": "markdown",
      "metadata": {
        "id": "view-in-github",
        "colab_type": "text"
      },
      "source": [
        "<a href=\"https://colab.research.google.com/github/NeskaCleo/MonicaGlez/blob/main/PySpark/Ejercicio_PySpark.ipynb\" target=\"_parent\"><img src=\"https://colab.research.google.com/assets/colab-badge.svg\" alt=\"Open In Colab\"/></a>"
      ]
    },
    {
      "cell_type": "code",
      "execution_count": null,
      "metadata": {
        "id": "YbgrQvF4HJKZ",
        "colab": {
          "base_uri": "https://localhost:8080/"
        },
        "outputId": "3af15ef0-bdec-48a3-dbbe-b69961ff4c71"
      },
      "outputs": [
        {
          "output_type": "stream",
          "name": "stdout",
          "text": [
            "Drive already mounted at /content/drive; to attempt to forcibly remount, call drive.mount(\"/content/drive\", force_remount=True).\n"
          ]
        }
      ],
      "source": [
        "from google.colab import drive\n",
        "drive.mount('/content/drive')"
      ]
    },
    {
      "cell_type": "markdown",
      "source": [
        "### `Práctica Spark`\n",
        "\n",
        "**Vamos a trabajar con un dataset compuesto de tres ficheros. Estos tres ficheros contienen las transacciones de venta, los productos y los clientes que participaron en dichas transacciones**\n"
      ],
      "metadata": {
        "id": "6qqhBwZGoodH"
      }
    },
    {
      "cell_type": "markdown",
      "source": [
        "## Instalacion de Java"
      ],
      "metadata": {
        "id": "-rzw1VLEpHr0"
      }
    },
    {
      "cell_type": "code",
      "source": [
        "!apt-get install openjdk-8-jdk-headless -qq > /dev/null"
      ],
      "metadata": {
        "id": "90GiRGbEdLDf"
      },
      "execution_count": null,
      "outputs": []
    },
    {
      "cell_type": "code",
      "source": [
        "!pip install findspark"
      ],
      "metadata": {
        "colab": {
          "base_uri": "https://localhost:8080/"
        },
        "id": "2IJL5uwUdLIK",
        "outputId": "9888bc51-1b6a-49fa-b981-7f8fe0703922"
      },
      "execution_count": null,
      "outputs": [
        {
          "output_type": "stream",
          "name": "stdout",
          "text": [
            "Looking in indexes: https://pypi.org/simple, https://us-python.pkg.dev/colab-wheels/public/simple/\n",
            "Requirement already satisfied: findspark in /usr/local/lib/python3.7/dist-packages (2.0.1)\n"
          ]
        }
      ]
    },
    {
      "cell_type": "markdown",
      "source": [
        "## Instalacion de Spark\n"
      ],
      "metadata": {
        "id": "EwhuMCx3pUwm"
      }
    },
    {
      "cell_type": "code",
      "source": [
        "from bs4 import BeautifulSoup\n",
        "import requests"
      ],
      "metadata": {
        "id": "qH4sDo_-dLLx"
      },
      "execution_count": null,
      "outputs": []
    },
    {
      "cell_type": "code",
      "source": [
        "#Obtener las versiones de spark la pagina web\n",
        "url = 'https://downloads.apache.org/spark/'\n",
        "r = requests.get(url)\n",
        "html_doc = r.text\n",
        "soup = BeautifulSoup(html_doc)"
      ],
      "metadata": {
        "id": "bUsNl6cNdLPd"
      },
      "execution_count": null,
      "outputs": []
    },
    {
      "cell_type": "code",
      "source": [
        "# leer la pagina web y obtener las versiones de spark disponibles\n",
        "link_files = []\n",
        "for link in soup.find_all('a'):\n",
        "  link_files.append(link.get('href'))\n",
        "spark_link = [x for x in link_files if 'spark' in x]\n",
        "print(spark_link)"
      ],
      "metadata": {
        "colab": {
          "base_uri": "https://localhost:8080/"
        },
        "id": "yrU5I-xDdLTX",
        "outputId": "d2126ca2-592a-487a-aae1-328510812a6c"
      },
      "execution_count": null,
      "outputs": [
        {
          "output_type": "stream",
          "name": "stdout",
          "text": [
            "['spark-3.1.3/', 'spark-3.2.2/', 'spark-3.3.0/']\n"
          ]
        }
      ]
    },
    {
      "cell_type": "code",
      "source": [
        "ver_spark = spark_link[1][:-1] # obtener la version y eliminar el caracter '/' del final\n",
        "print(ver_spark)"
      ],
      "metadata": {
        "colab": {
          "base_uri": "https://localhost:8080/"
        },
        "id": "H1uJhS3PdLX2",
        "outputId": "407ccea6-2ce9-4003-d9a3-9f62e8da76fe"
      },
      "execution_count": null,
      "outputs": [
        {
          "output_type": "stream",
          "name": "stdout",
          "text": [
            "spark-3.2.2\n"
          ]
        }
      ]
    },
    {
      "cell_type": "code",
      "source": [
        "import os # libreria de manejo del sistema operativo\n",
        "#instalar automaticamente la version deseadda de spark\n",
        "!wget -q https://archive.apache.org/dist/spark/spark-3.2.2/spark-3.2.2-bin-hadoop2.7.tgz\n",
        "!tar xf spark-3.2.2-bin-hadoop2.7.tgz\n",
        "# instalar pyspark\n",
        "#!pip install -q pyspark"
      ],
      "metadata": {
        "id": "H97ycYmIdLbn"
      },
      "execution_count": null,
      "outputs": []
    },
    {
      "cell_type": "code",
      "source": [
        "!pip install -q pyspark==3.2.2"
      ],
      "metadata": {
        "id": "ymv2fssFdLfU"
      },
      "execution_count": null,
      "outputs": []
    },
    {
      "cell_type": "markdown",
      "source": [
        "# Cargar pyspark en el sistema"
      ],
      "metadata": {
        "id": "Yx0zZmLxp9RT"
      }
    },
    {
      "cell_type": "code",
      "source": [
        "from pyspark.sql import SparkSession\n",
        "from pyspark.sql import functions as F, types as T\n",
        "spark = SparkSession.builder.appName(\"Varios\").master(\"local[*]\").getOrCreate()\n",
        "spark"
      ],
      "metadata": {
        "colab": {
          "base_uri": "https://localhost:8080/",
          "height": 219
        },
        "id": "2hDuPU3edLjS",
        "outputId": "1baf9b0f-abc1-433e-d773-471f3695cfe8"
      },
      "execution_count": null,
      "outputs": [
        {
          "output_type": "execute_result",
          "data": {
            "text/plain": [
              "<pyspark.sql.session.SparkSession at 0x7f57a5820ed0>"
            ],
            "text/html": [
              "\n",
              "            <div>\n",
              "                <p><b>SparkSession - in-memory</b></p>\n",
              "                \n",
              "        <div>\n",
              "            <p><b>SparkContext</b></p>\n",
              "\n",
              "            <p><a href=\"http://803346ecd864:4040\">Spark UI</a></p>\n",
              "\n",
              "            <dl>\n",
              "              <dt>Version</dt>\n",
              "                <dd><code>v3.2.2</code></dd>\n",
              "              <dt>Master</dt>\n",
              "                <dd><code>local[*]</code></dd>\n",
              "              <dt>AppName</dt>\n",
              "                <dd><code>Varios</code></dd>\n",
              "            </dl>\n",
              "        </div>\n",
              "        \n",
              "            </div>\n",
              "        "
            ]
          },
          "metadata": {},
          "execution_count": 10
        }
      ]
    },
    {
      "cell_type": "markdown",
      "source": [
        "## Definir variables de entorno"
      ],
      "metadata": {
        "id": "dTvyble3pn3S"
      }
    },
    {
      "cell_type": "code",
      "source": [
        "os.environ[\"JAVA_HOME\"] = \"/usr/lib/jvm/java-8-openjdk-amd64\"\n",
        "os.environ[\"SPARK_HOME\"] = f\"/content/spark-3.2.2-bin-hadoop2.7\""
      ],
      "metadata": {
        "id": "BM8sizXydLm1"
      },
      "execution_count": null,
      "outputs": []
    },
    {
      "cell_type": "markdown",
      "source": [
        "Tenemos 3 datasets en esta practica:\n",
        "\n",
        "-Transactions: que contiene la información relativa a órdenes de compra\n",
        "\n",
        "-Productos\n",
        "\n",
        "-Clientes\n",
        "\n",
        "Une todos los datasets en uno solo, teniendo en cuenta que vamos a analizar la información según orden de compra, producto y cliente. Cada registro (fila) es una entrada de la orden de compra que está asociado a la venta de un product id. La información del cliente se puede repetir en los diferentes registros que componen la orden de compra\n",
        "\n",
        "Resuelve las siguientes preguntas:\n",
        "1. Monta el dataset para resolver adecuadamente los ejercicios abajo descritos. (1 pto)\n",
        "2. Devuelve los siguientes indicadores generando una nueva columna para cada uno. Nota: resolver con usando withColumn y UDF en dos de las preguntas, pudiendo usar SQL en la restante (2 pts):\n",
        "a. Precio de venta por unidad (teniendo en cuenta el descuento aplicado)\n",
        "b. Beneficio unitario (calculado como beneficio entre cantidad)\n",
        "c. Coste Unitario: calculado como precio de venta unitario - beneficio unitario\n",
        "3.Desde control de gestión, dicen que hay que intentar ser rentables. Identifica la rentabilidad obtenida por cada categoria de producto (profit por categoria de producto) (1 pto).\n",
        "4. Nos piden también que identifiquemos los productos a los que se le han aplicado descuento y han obtenido un beneficio negativo en la transacción (1 pto)\n",
        "5. Identifica a los clientes a los que se vendieron esos productos (los identificados en la pregunta 4) y calcula su rentabilidad media (1 pto)\n",
        "6. Si quisiéramos obtener un beneficio unitario de un 50% sobre el coste unitario en estos productos, ¿cuál habría sido el precio de venta unitario con y sin descuento del 10%? (2 pts)\n",
        "7. El presidente Johnny Walker se ha levantado generoso por su cumpleaños. Quiere regalar sendos (dos!) vales para un viaje al Caribe al cliente más rentable y al cliente más fiel (medido en número de transacciones) de Florida (2 pto)."
      ],
      "metadata": {
        "id": "b97WGfNjqBC9"
      }
    },
    {
      "cell_type": "markdown",
      "source": [
        "# Importación de datos"
      ],
      "metadata": {
        "id": "GFFk8kRmqTkr"
      }
    },
    {
      "cell_type": "markdown",
      "source": [
        "**Une todos los datasets en uno solo, teniendo en cuenta que vamos a analizar la información según orden de compra, producto y cliente. Cada registro (fila) es una entrada de la orden de compra que está asociado a la venta de un product id. La información del cliente se puede repetir en los diferentes registros que componen la orden de compra**"
      ],
      "metadata": {
        "id": "U8dKpqW-qjYK"
      }
    },
    {
      "cell_type": "code",
      "source": [
        "transaciones=spark.read.csv('/content/drive/MyDrive/us_superstore_transactions.csv',inferSchema=True, header=True, sep=',')\n",
        "transaciones.show(10)"
      ],
      "metadata": {
        "colab": {
          "base_uri": "https://localhost:8080/"
        },
        "id": "cdx7IyzydLqV",
        "outputId": "37050883-7649-4d15-a1eb-a72dedefd5b9"
      },
      "execution_count": null,
      "outputs": [
        {
          "output_type": "stream",
          "name": "stdout",
          "text": [
            "+------+--------------+----------+----------+--------------+-----------+---------------+------------------+--------+--------+--------+\n",
            "|Row ID|      Order ID|Order Date| Ship Date|     Ship Mode|Customer ID|     Product ID|             Sales|Quantity|Discount|  Profit|\n",
            "+------+--------------+----------+----------+--------------+-----------+---------------+------------------+--------+--------+--------+\n",
            "|     1|CA-2016-152156| 11/8/2016|11/11/2016|  Second Class|   CG-12520|FUR-BO-10001798|            261.96|       2|     0.0| 41.9136|\n",
            "|     2|CA-2016-152156| 11/8/2016|11/11/2016|  Second Class|   CG-12520|FUR-CH-10000454|            731.94|       3|     0.0| 219.582|\n",
            "|     3|CA-2016-138688| 6/12/2016| 6/16/2016|  Second Class|   DV-13045|OFF-LA-10000240|             14.62|       2|     0.0|  6.8714|\n",
            "|     4|US-2015-108966|10/11/2015|10/18/2015|Standard Class|   SO-20335|FUR-TA-10000577|          957.5775|       5|    0.45|-383.031|\n",
            "|     5|US-2015-108966|10/11/2015|10/18/2015|Standard Class|   SO-20335|OFF-ST-10000760|22.368000000000002|       2|     0.2|  2.5164|\n",
            "|     6|CA-2014-115812|  6/9/2014| 6/14/2014|Standard Class|   BH-11710|FUR-FU-10001487|             48.86|       7|     0.0| 14.1694|\n",
            "|     7|CA-2014-115812|  6/9/2014| 6/14/2014|Standard Class|   BH-11710|OFF-AR-10002833|              7.28|       4|     0.0|  1.9656|\n",
            "|     8|CA-2014-115812|  6/9/2014| 6/14/2014|Standard Class|   BH-11710|TEC-PH-10002275| 907.1519999999999|       6|     0.2| 90.7152|\n",
            "|     9|CA-2014-115812|  6/9/2014| 6/14/2014|Standard Class|   BH-11710|OFF-BI-10003910|            18.504|       3|     0.2|  5.7825|\n",
            "|    10|CA-2014-115812|  6/9/2014| 6/14/2014|Standard Class|   BH-11710|OFF-AP-10002892|             114.9|       5|     0.0|   34.47|\n",
            "+------+--------------+----------+----------+--------------+-----------+---------------+------------------+--------+--------+--------+\n",
            "only showing top 10 rows\n",
            "\n"
          ]
        }
      ]
    },
    {
      "cell_type": "code",
      "source": [
        "transaciones.describe().show()"
      ],
      "metadata": {
        "colab": {
          "base_uri": "https://localhost:8080/"
        },
        "id": "KogbXbtNdLt9",
        "outputId": "c01b37c6-b8ee-45a4-8321-9d97cd9ad00c"
      },
      "execution_count": null,
      "outputs": [
        {
          "output_type": "stream",
          "name": "stdout",
          "text": [
            "+-------+------------------+--------------+----------+---------+--------------+-----------+---------------+-----------------+-----------------+-------------------+------------------+\n",
            "|summary|            Row ID|      Order ID|Order Date|Ship Date|     Ship Mode|Customer ID|     Product ID|            Sales|         Quantity|           Discount|            Profit|\n",
            "+-------+------------------+--------------+----------+---------+--------------+-----------+---------------+-----------------+-----------------+-------------------+------------------+\n",
            "|  count|              9994|          9994|      9994|     9994|          9994|       9994|           9994|             9994|             9994|               9994|              9994|\n",
            "|   mean|            4997.5|          null|      null|     null|          null|       null|           null|229.8580008304938|3.789573744246548|0.15620272163298934|28.656896307784802|\n",
            "| stddev|2885.1636290974325|          null|      null|     null|          null|       null|           null|623.2451005086809|2.225109691141402|0.20645196782571626| 234.2601076909573|\n",
            "|    min|                 1|CA-2014-100006|  1/1/2017| 1/1/2015|   First Class|   AA-10315|FUR-BO-10000112|            0.444|                1|                0.0|         -6599.978|\n",
            "|    max|              9994|US-2017-169551|  9/9/2017| 9/9/2017|Standard Class|   ZD-21925|TEC-PH-10004977|         22638.48|               14|                0.8|          8399.976|\n",
            "+-------+------------------+--------------+----------+---------+--------------+-----------+---------------+-----------------+-----------------+-------------------+------------------+\n",
            "\n"
          ]
        }
      ]
    },
    {
      "cell_type": "code",
      "source": [
        "transaciones = transaciones.drop('Row ID','Order ID','Order Date','Ship Date','Ship Mode')"
      ],
      "metadata": {
        "id": "2OULje5FjRF6"
      },
      "execution_count": null,
      "outputs": []
    },
    {
      "cell_type": "code",
      "source": [
        "transaciones.describe().show()"
      ],
      "metadata": {
        "colab": {
          "base_uri": "https://localhost:8080/"
        },
        "id": "jldgiA1UjRUm",
        "outputId": "5b662743-6d92-4410-bda2-2826f35c1668"
      },
      "execution_count": null,
      "outputs": [
        {
          "output_type": "stream",
          "name": "stdout",
          "text": [
            "+-------+-----------+---------------+-----------------+-----------------+-------------------+------------------+\n",
            "|summary|Customer ID|     Product ID|            Sales|         Quantity|           Discount|            Profit|\n",
            "+-------+-----------+---------------+-----------------+-----------------+-------------------+------------------+\n",
            "|  count|       9994|           9994|             9994|             9994|               9994|              9994|\n",
            "|   mean|       null|           null|229.8580008304938|3.789573744246548|0.15620272163298934|28.656896307784802|\n",
            "| stddev|       null|           null|623.2451005086809|2.225109691141402|0.20645196782571626| 234.2601076909573|\n",
            "|    min|   AA-10315|FUR-BO-10000112|            0.444|                1|                0.0|         -6599.978|\n",
            "|    max|   ZD-21925|TEC-PH-10004977|         22638.48|               14|                0.8|          8399.976|\n",
            "+-------+-----------+---------------+-----------------+-----------------+-------------------+------------------+\n",
            "\n"
          ]
        }
      ]
    },
    {
      "cell_type": "code",
      "source": [
        "clientes=spark.read.csv('/content/drive/MyDrive/us_superstores_customers.csv',inferSchema=True, header=True, sep=';')\n",
        "clientes.show(10)"
      ],
      "metadata": {
        "colab": {
          "base_uri": "https://localhost:8080/"
        },
        "id": "sQij7UfrjRiQ",
        "outputId": "086c22fd-9cae-42e2-87d9-db20fc2c492e"
      },
      "execution_count": null,
      "outputs": [
        {
          "output_type": "stream",
          "name": "stdout",
          "text": [
            "+-----------+------------------+-----------+-------------+---------------+--------------+-----------+-------+\n",
            "|Customer ID|     Customer Name|    Segment|      Country|           City|         State|Postal Code| Region|\n",
            "+-----------+------------------+-----------+-------------+---------------+--------------+-----------+-------+\n",
            "|   CG-12520|       Claire Gute|   Consumer|United States|      Henderson|      Kentucky|      42420|  South|\n",
            "|   DV-13045|   Darrin Van Huff|  Corporate|United States|    Los Angeles|    California|      90036|   West|\n",
            "|   SO-20335|    Sean O'Donnell|   Consumer|United States|Fort Lauderdale|       Florida|      33311|  South|\n",
            "|   BH-11710|   Brosina Hoffman|   Consumer|United States|    Los Angeles|    California|      90032|   West|\n",
            "|   AA-10480|      Andrew Allen|   Consumer|United States|        Concord|North Carolina|      28027|  South|\n",
            "|   IM-15070|      Irene Maddox|   Consumer|United States|        Seattle|    Washington|      98103|   West|\n",
            "|   HP-14815|     Harold Pawlan|Home Office|United States|     Fort Worth|         Texas|      76106|Central|\n",
            "|   PK-19075|         Pete Kriz|   Consumer|United States|        Madison|     Wisconsin|      53711|Central|\n",
            "|   AG-10270|   Alejandro Grove|   Consumer|United States|    West Jordan|          Utah|      84084|   West|\n",
            "|   ZD-21925|Zuschuss Donatelli|   Consumer|United States|  San Francisco|    California|      94109|   West|\n",
            "+-----------+------------------+-----------+-------------+---------------+--------------+-----------+-------+\n",
            "only showing top 10 rows\n",
            "\n"
          ]
        }
      ]
    },
    {
      "cell_type": "code",
      "source": [
        "clientes.describe().show()"
      ],
      "metadata": {
        "colab": {
          "base_uri": "https://localhost:8080/"
        },
        "id": "NylmC4anjRr3",
        "outputId": "3597480d-f86c-403b-b271-b5757313dbcd"
      },
      "execution_count": null,
      "outputs": [
        {
          "output_type": "stream",
          "name": "stdout",
          "text": [
            "+-------+-----------+------------------+-----------+-------------+--------+-------+------------------+-------+\n",
            "|summary|Customer ID|     Customer Name|    Segment|      Country|    City|  State|       Postal Code| Region|\n",
            "+-------+-----------+------------------+-----------+-------------+--------+-------+------------------+-------+\n",
            "|  count|       4910|              4910|       4910|         4910|    4910|   4910|              4910|   4910|\n",
            "|   mean|       null|              null|       null|         null|    null|   null|55345.687576374745|   null|\n",
            "| stddev|       null|              null|       null|         null|    null|   null|31922.029402318818|   null|\n",
            "|    min|   AA-10315|     Aaron Bergman|   Consumer|United States|Aberdeen|Alabama|              1040|Central|\n",
            "|    max|   ZD-21925|Zuschuss Donatelli|Home Office|United States|    Yuma|Wyoming|             99301|   West|\n",
            "+-------+-----------+------------------+-----------+-------------+--------+-------+------------------+-------+\n",
            "\n"
          ]
        }
      ]
    },
    {
      "cell_type": "code",
      "source": [
        "clientes = clientes.dropDuplicates(['Customer ID'])"
      ],
      "metadata": {
        "id": "yrlhCgi4dLxo"
      },
      "execution_count": null,
      "outputs": []
    },
    {
      "cell_type": "code",
      "source": [
        "clientes = clientes.drop('Segment','City','Region')"
      ],
      "metadata": {
        "id": "MzCew8yFkeBw"
      },
      "execution_count": null,
      "outputs": []
    },
    {
      "cell_type": "code",
      "source": [
        "clientes.describe().show()"
      ],
      "metadata": {
        "colab": {
          "base_uri": "https://localhost:8080/"
        },
        "id": "atMJct6deEIs",
        "outputId": "cf7e8f18-b6a3-4aaa-c6f0-612b6f717e34"
      },
      "execution_count": null,
      "outputs": [
        {
          "output_type": "stream",
          "name": "stdout",
          "text": [
            "+-------+-----------+------------------+-------------+---------+------------------+\n",
            "|summary|Customer ID|     Customer Name|      Country|    State|       Postal Code|\n",
            "+-------+-----------+------------------+-------------+---------+------------------+\n",
            "|  count|        793|               793|          793|      793|               793|\n",
            "|   mean|       null|              null|         null|     null|55229.717528373265|\n",
            "| stddev|       null|              null|         null|     null|31679.223815801197|\n",
            "|    min|   AA-10315|     Aaron Bergman|United States|  Alabama|              1841|\n",
            "|    max|   ZD-21925|Zuschuss Donatelli|United States|Wisconsin|             99207|\n",
            "+-------+-----------+------------------+-------------+---------+------------------+\n",
            "\n"
          ]
        }
      ]
    },
    {
      "cell_type": "code",
      "source": [
        "productos=spark.read.csv('/content/drive/MyDrive/us_superstores_products.csv',inferSchema=True, header=True, sep=';')\n",
        "productos.show(10)"
      ],
      "metadata": {
        "colab": {
          "base_uri": "https://localhost:8080/"
        },
        "id": "1Qt4G8vFeEM_",
        "outputId": "a6cf1f1a-9a1b-46f8-b3c4-e4f30d569fe0"
      },
      "execution_count": null,
      "outputs": [
        {
          "output_type": "stream",
          "name": "stdout",
          "text": [
            "+---------------+---------------+------------+--------------------+\n",
            "|     Product ID|       Category|Sub-Category|        Product Name|\n",
            "+---------------+---------------+------------+--------------------+\n",
            "|FUR-BO-10001798|      Furniture|   Bookcases|Bush Somerset Col...|\n",
            "|FUR-CH-10000454|      Furniture|      Chairs|Hon Deluxe Fabric...|\n",
            "|OFF-LA-10000240|Office Supplies|      Labels|Self-Adhesive Add...|\n",
            "|FUR-TA-10000577|      Furniture|      Tables|Bretford CR4500 S...|\n",
            "|OFF-ST-10000760|Office Supplies|     Storage|Eldon Fold 'N Rol...|\n",
            "|FUR-FU-10001487|      Furniture| Furnishings|Eldon Expressions...|\n",
            "|OFF-AR-10002833|Office Supplies|         Art|          Newell 322|\n",
            "|TEC-PH-10002275|     Technology|      Phones|Mitel 5320 IP Pho...|\n",
            "|OFF-BI-10003910|Office Supplies|     Binders|DXL Angle-View Bi...|\n",
            "|OFF-AP-10002892|Office Supplies|  Appliances|Belkin F5C206VTEL...|\n",
            "+---------------+---------------+------------+--------------------+\n",
            "only showing top 10 rows\n",
            "\n"
          ]
        }
      ]
    },
    {
      "cell_type": "code",
      "source": [
        "productos.describe().show()"
      ],
      "metadata": {
        "colab": {
          "base_uri": "https://localhost:8080/"
        },
        "id": "X3pRHHz_eEQ6",
        "outputId": "cea3d298-4a07-4398-ff4c-6b2bf2d734dc"
      },
      "execution_count": null,
      "outputs": [
        {
          "output_type": "stream",
          "name": "stdout",
          "text": [
            "+-------+---------------+----------+------------+--------------------+\n",
            "|summary|     Product ID|  Category|Sub-Category|        Product Name|\n",
            "+-------+---------------+----------+------------+--------------------+\n",
            "|  count|           1894|      1894|        1894|                1894|\n",
            "|   mean|           null|      null|        null|                null|\n",
            "| stddev|           null|      null|        null|                null|\n",
            "|    min|FUR-BO-10000112| Furniture| Accessories|\"\"\"While you Were...|\n",
            "|    max|TEC-PH-10004977|Technology|      Tables|netTALK DUO VoIP ...|\n",
            "+-------+---------------+----------+------------+--------------------+\n",
            "\n"
          ]
        }
      ]
    },
    {
      "cell_type": "code",
      "source": [
        "productos = productos.dropDuplicates(['Product ID'])"
      ],
      "metadata": {
        "id": "h1_TuGrteEU7"
      },
      "execution_count": null,
      "outputs": []
    },
    {
      "cell_type": "code",
      "source": [
        "productos = productos.drop('Product Name')"
      ],
      "metadata": {
        "id": "3CDwm_vbeEZA"
      },
      "execution_count": null,
      "outputs": []
    },
    {
      "cell_type": "code",
      "source": [
        "productos.describe().show()"
      ],
      "metadata": {
        "colab": {
          "base_uri": "https://localhost:8080/"
        },
        "id": "_QYXkOXoeEdT",
        "outputId": "24c712ae-457a-41cc-dce0-ff52ce30f894"
      },
      "execution_count": null,
      "outputs": [
        {
          "output_type": "stream",
          "name": "stdout",
          "text": [
            "+-------+---------------+----------+------------+\n",
            "|summary|     Product ID|  Category|Sub-Category|\n",
            "+-------+---------------+----------+------------+\n",
            "|  count|           1862|      1862|        1862|\n",
            "|   mean|           null|      null|        null|\n",
            "| stddev|           null|      null|        null|\n",
            "|    min|FUR-BO-10000112| Furniture| Accessories|\n",
            "|    max|TEC-PH-10004977|Technology|      Tables|\n",
            "+-------+---------------+----------+------------+\n",
            "\n"
          ]
        }
      ]
    },
    {
      "cell_type": "code",
      "source": [
        "resultadointermedio = clientes.select('Customer ID','Customer Name','Country','State','Postal Code').join(transaciones,on='Customer ID',how='left')\n",
        "resultadointermedio.show(10)"
      ],
      "metadata": {
        "colab": {
          "base_uri": "https://localhost:8080/"
        },
        "id": "ZwBK7YU0eEhr",
        "outputId": "8c939710-3f81-4dda-e2d9-3a761859a9fe"
      },
      "execution_count": null,
      "outputs": [
        {
          "output_type": "stream",
          "name": "stdout",
          "text": [
            "+-----------+-------------+-------------+---------+-----------+---------------+------------------+--------+--------+---------+\n",
            "|Customer ID|Customer Name|      Country|    State|Postal Code|     Product ID|             Sales|Quantity|Discount|   Profit|\n",
            "+-----------+-------------+-------------+---------+-----------+---------------+------------------+--------+--------+---------+\n",
            "|   AA-10315|   Alex Avila|United States|Minnesota|      55407|FUR-FU-10002456|             14.56|       2|     0.0|   6.2608|\n",
            "|   AA-10315|   Alex Avila|United States|Minnesota|      55407|OFF-PA-10000349|             14.94|       3|     0.0|   7.0218|\n",
            "|   AA-10315|   Alex Avila|United States|Minnesota|      55407|TEC-AC-10002857|             41.72|       7|     0.2|   5.7365|\n",
            "|   AA-10315|   Alex Avila|United States|Minnesota|      55407|TEC-PH-10000895|           431.976|       3|     0.2|  32.3982|\n",
            "|   AA-10315|   Alex Avila|United States|Minnesota|      55407|OFF-FA-10001332|2.3040000000000003|       1|     0.2|   0.7776|\n",
            "|   AA-10315|   Alex Avila|United States|Minnesota|      55407|OFF-SU-10000151|          3930.072|       3|     0.2|-786.0144|\n",
            "|   AA-10315|   Alex Avila|United States|Minnesota|      55407|OFF-AP-10002765|             52.98|       2|     0.0|  14.8344|\n",
            "|   AA-10315|   Alex Avila|United States|Minnesota|      55407|OFF-BI-10004390|           673.568|       2|     0.2|  252.588|\n",
            "|   AA-10315|   Alex Avila|United States|Minnesota|      55407|OFF-ST-10001590|             26.96|       2|     0.0|   7.0096|\n",
            "|   AA-10315|   Alex Avila|United States|Minnesota|      55407|OFF-BI-10004654|             11.54|       2|     0.0|     5.77|\n",
            "+-----------+-------------+-------------+---------+-----------+---------------+------------------+--------+--------+---------+\n",
            "only showing top 10 rows\n",
            "\n"
          ]
        }
      ]
    },
    {
      "cell_type": "code",
      "source": [
        "resultadointermedio.describe().show()"
      ],
      "metadata": {
        "colab": {
          "base_uri": "https://localhost:8080/"
        },
        "id": "YInQQg3Bmbb9",
        "outputId": "7b0218b6-9178-4aee-992b-f203aae26c13"
      },
      "execution_count": null,
      "outputs": [
        {
          "output_type": "stream",
          "name": "stdout",
          "text": [
            "+-------+-----------+------------------+-------------+---------+------------------+---------------+------------------+-----------------+-------------------+------------------+\n",
            "|summary|Customer ID|     Customer Name|      Country|    State|       Postal Code|     Product ID|             Sales|         Quantity|           Discount|            Profit|\n",
            "+-------+-----------+------------------+-------------+---------+------------------+---------------+------------------+-----------------+-------------------+------------------+\n",
            "|  count|       9994|              9994|         9994|     9994|              9994|           9994|              9994|             9994|               9994|              9994|\n",
            "|   mean|       null|              null|         null|     null| 55320.68060836502|           null|229.85800083049372|3.789573744246548|0.15620272163298943|28.656896307784624|\n",
            "| stddev|       null|              null|         null|     null|31471.270959004716|           null| 623.2451005086804|  2.2251096911414|0.20645196782571612| 234.2601076909572|\n",
            "|    min|   AA-10315|     Aaron Bergman|United States|  Alabama|              1841|FUR-BO-10000112|             0.444|                1|                0.0|         -6599.978|\n",
            "|    max|   ZD-21925|Zuschuss Donatelli|United States|Wisconsin|             99207|TEC-PH-10004977|          22638.48|               14|                0.8|          8399.976|\n",
            "+-------+-----------+------------------+-------------+---------+------------------+---------------+------------------+-----------------+-------------------+------------------+\n",
            "\n"
          ]
        }
      ]
    },
    {
      "cell_type": "code",
      "source": [
        "midata = resultadointermedio.select('Customer ID','Customer Name','Country','Postal Code','State','Product ID','Sales','Quantity','Discount','Profit').join(productos,on='Product ID',how='left')\n",
        "midata.show(10)"
      ],
      "metadata": {
        "colab": {
          "base_uri": "https://localhost:8080/"
        },
        "id": "GuuKQYztmbgo",
        "outputId": "cea75825-b520-4071-e3f4-07e69378950f"
      },
      "execution_count": null,
      "outputs": [
        {
          "output_type": "stream",
          "name": "stdout",
          "text": [
            "+---------------+-----------+-------------+-------------+-----------+---------+------------------+--------+--------+---------+---------------+------------+\n",
            "|     Product ID|Customer ID|Customer Name|      Country|Postal Code|    State|             Sales|Quantity|Discount|   Profit|       Category|Sub-Category|\n",
            "+---------------+-----------+-------------+-------------+-----------+---------+------------------+--------+--------+---------+---------------+------------+\n",
            "|FUR-FU-10002456|   AA-10315|   Alex Avila|United States|      55407|Minnesota|             14.56|       2|     0.0|   6.2608|      Furniture| Furnishings|\n",
            "|OFF-PA-10000349|   AA-10315|   Alex Avila|United States|      55407|Minnesota|             14.94|       3|     0.0|   7.0218|Office Supplies|       Paper|\n",
            "|TEC-AC-10002857|   AA-10315|   Alex Avila|United States|      55407|Minnesota|             41.72|       7|     0.2|   5.7365|     Technology| Accessories|\n",
            "|TEC-PH-10000895|   AA-10315|   Alex Avila|United States|      55407|Minnesota|           431.976|       3|     0.2|  32.3982|     Technology|      Phones|\n",
            "|OFF-FA-10001332|   AA-10315|   Alex Avila|United States|      55407|Minnesota|2.3040000000000003|       1|     0.2|   0.7776|Office Supplies|   Fasteners|\n",
            "|OFF-SU-10000151|   AA-10315|   Alex Avila|United States|      55407|Minnesota|          3930.072|       3|     0.2|-786.0144|Office Supplies|    Supplies|\n",
            "|OFF-AP-10002765|   AA-10315|   Alex Avila|United States|      55407|Minnesota|             52.98|       2|     0.0|  14.8344|Office Supplies|  Appliances|\n",
            "|OFF-BI-10004390|   AA-10315|   Alex Avila|United States|      55407|Minnesota|           673.568|       2|     0.2|  252.588|Office Supplies|     Binders|\n",
            "|OFF-ST-10001590|   AA-10315|   Alex Avila|United States|      55407|Minnesota|             26.96|       2|     0.0|   7.0096|Office Supplies|     Storage|\n",
            "|OFF-BI-10004654|   AA-10315|   Alex Avila|United States|      55407|Minnesota|             11.54|       2|     0.0|     5.77|Office Supplies|     Binders|\n",
            "+---------------+-----------+-------------+-------------+-----------+---------+------------------+--------+--------+---------+---------------+------------+\n",
            "only showing top 10 rows\n",
            "\n"
          ]
        }
      ]
    },
    {
      "cell_type": "code",
      "source": [
        "midata.describe().show()"
      ],
      "metadata": {
        "colab": {
          "base_uri": "https://localhost:8080/"
        },
        "id": "F8tMB2Etmbki",
        "outputId": "59614352-284d-47bc-bde3-c1e2829a2ca1"
      },
      "execution_count": null,
      "outputs": [
        {
          "output_type": "stream",
          "name": "stdout",
          "text": [
            "+-------+---------------+-----------+------------------+-------------+------------------+---------+------------------+-----------------+-------------------+------------------+----------+------------+\n",
            "|summary|     Product ID|Customer ID|     Customer Name|      Country|       Postal Code|    State|             Sales|         Quantity|           Discount|            Profit|  Category|Sub-Category|\n",
            "+-------+---------------+-----------+------------------+-------------+------------------+---------+------------------+-----------------+-------------------+------------------+----------+------------+\n",
            "|  count|           9994|       9994|              9994|         9994|              9994|     9994|              9994|             9994|               9994|              9994|      9994|        9994|\n",
            "|   mean|           null|       null|              null|         null| 55320.68060836502|     null|229.85800083049372|3.789573744246548|0.15620272163298943|28.656896307784624|      null|        null|\n",
            "| stddev|           null|       null|              null|         null|31471.270959004716|     null| 623.2451005086804|  2.2251096911414|0.20645196782571612| 234.2601076909572|      null|        null|\n",
            "|    min|FUR-BO-10000112|   AA-10315|     Aaron Bergman|United States|              1841|  Alabama|             0.444|                1|                0.0|         -6599.978| Furniture| Accessories|\n",
            "|    max|TEC-PH-10004977|   ZD-21925|Zuschuss Donatelli|United States|             99207|Wisconsin|          22638.48|               14|                0.8|          8399.976|Technology|      Tables|\n",
            "+-------+---------------+-----------+------------------+-------------+------------------+---------+------------------+-----------------+-------------------+------------------+----------+------------+\n",
            "\n"
          ]
        }
      ]
    },
    {
      "cell_type": "markdown",
      "source": [
        "**Devuelve los siguientes indicadores generando una nueva columna para cada uno. Nota: resolver con usando withColumn y UDF en dos de las preguntas, pudiendo usar SQL en la restante**"
      ],
      "metadata": {
        "id": "BCSjr1hKq9QW"
      }
    },
    {
      "cell_type": "markdown",
      "source": [
        "**a. Precio de venta por unidad (teniendo en cuenta el descuento aplicado)**"
      ],
      "metadata": {
        "id": "aHz_dyF2rLEx"
      }
    },
    {
      "cell_type": "code",
      "source": [
        "from pyspark.sql.functions import lit, udf, col,array\n",
        "from pyspark.sql.types import *"
      ],
      "metadata": {
        "id": "5uXAL1bbmboj"
      },
      "execution_count": null,
      "outputs": []
    },
    {
      "cell_type": "code",
      "source": [
        "@udf(returnType=FloatType())\n",
        "def unidad (a,b,c):\n",
        "  x=(a-a*c)/b\n",
        "  return x\n",
        "midata2=midata.withColumn('Precio_unidad',unidad('Sales','Quantity','Discount'))\n",
        "midata2.show(10)\n"
      ],
      "metadata": {
        "colab": {
          "base_uri": "https://localhost:8080/"
        },
        "id": "g8vTf7-fmbsH",
        "outputId": "b1b60320-5ee2-4ecc-e264-a47344b3bd91"
      },
      "execution_count": null,
      "outputs": [
        {
          "output_type": "stream",
          "name": "stdout",
          "text": [
            "+---------------+-----------+-------------+-------------+-----------+---------+------------------+--------+--------+---------+---------------+------------+-------------+\n",
            "|     Product ID|Customer ID|Customer Name|      Country|Postal Code|    State|             Sales|Quantity|Discount|   Profit|       Category|Sub-Category|Precio_unidad|\n",
            "+---------------+-----------+-------------+-------------+-----------+---------+------------------+--------+--------+---------+---------------+------------+-------------+\n",
            "|FUR-FU-10002456|   AA-10315|   Alex Avila|United States|      55407|Minnesota|             14.56|       2|     0.0|   6.2608|      Furniture| Furnishings|         7.28|\n",
            "|OFF-PA-10000349|   AA-10315|   Alex Avila|United States|      55407|Minnesota|             14.94|       3|     0.0|   7.0218|Office Supplies|       Paper|         4.98|\n",
            "|TEC-AC-10002857|   AA-10315|   Alex Avila|United States|      55407|Minnesota|             41.72|       7|     0.2|   5.7365|     Technology| Accessories|        4.768|\n",
            "|TEC-PH-10000895|   AA-10315|   Alex Avila|United States|      55407|Minnesota|           431.976|       3|     0.2|  32.3982|     Technology|      Phones|     115.1936|\n",
            "|OFF-FA-10001332|   AA-10315|   Alex Avila|United States|      55407|Minnesota|2.3040000000000003|       1|     0.2|   0.7776|Office Supplies|   Fasteners|       1.8432|\n",
            "|OFF-SU-10000151|   AA-10315|   Alex Avila|United States|      55407|Minnesota|          3930.072|       3|     0.2|-786.0144|Office Supplies|    Supplies|    1048.0192|\n",
            "|OFF-AP-10002765|   AA-10315|   Alex Avila|United States|      55407|Minnesota|             52.98|       2|     0.0|  14.8344|Office Supplies|  Appliances|        26.49|\n",
            "|OFF-BI-10004390|   AA-10315|   Alex Avila|United States|      55407|Minnesota|           673.568|       2|     0.2|  252.588|Office Supplies|     Binders|     269.4272|\n",
            "|OFF-ST-10001590|   AA-10315|   Alex Avila|United States|      55407|Minnesota|             26.96|       2|     0.0|   7.0096|Office Supplies|     Storage|        13.48|\n",
            "|OFF-BI-10004654|   AA-10315|   Alex Avila|United States|      55407|Minnesota|             11.54|       2|     0.0|     5.77|Office Supplies|     Binders|         5.77|\n",
            "+---------------+-----------+-------------+-------------+-----------+---------+------------------+--------+--------+---------+---------------+------------+-------------+\n",
            "only showing top 10 rows\n",
            "\n"
          ]
        }
      ]
    },
    {
      "cell_type": "markdown",
      "source": [
        "**b. Beneficio unitario (calculado como beneficio entre cantidad)**"
      ],
      "metadata": {
        "id": "_3SjFfgIrTFk"
      }
    },
    {
      "cell_type": "code",
      "source": [
        "@udf(returnType=FloatType())\n",
        "def bunidad (j,k):\n",
        "  x=j/k\n",
        "  return x\n",
        "midata3=midata2.withColumn('Beneficio_unidad',bunidad('Profit','Quantity'))\n",
        "midata3.show(10)"
      ],
      "metadata": {
        "colab": {
          "base_uri": "https://localhost:8080/"
        },
        "id": "snERG3Ugmbxh",
        "outputId": "78cdd607-339c-4e3c-f449-de56b0d55d08"
      },
      "execution_count": null,
      "outputs": [
        {
          "output_type": "stream",
          "name": "stdout",
          "text": [
            "+---------------+-----------+-------------+-------------+-----------+---------+------------------+--------+--------+---------+---------------+------------+-------------+----------------+\n",
            "|     Product ID|Customer ID|Customer Name|      Country|Postal Code|    State|             Sales|Quantity|Discount|   Profit|       Category|Sub-Category|Precio_unidad|Beneficio_unidad|\n",
            "+---------------+-----------+-------------+-------------+-----------+---------+------------------+--------+--------+---------+---------------+------------+-------------+----------------+\n",
            "|FUR-FU-10002456|   AA-10315|   Alex Avila|United States|      55407|Minnesota|             14.56|       2|     0.0|   6.2608|      Furniture| Furnishings|         7.28|          3.1304|\n",
            "|OFF-PA-10000349|   AA-10315|   Alex Avila|United States|      55407|Minnesota|             14.94|       3|     0.0|   7.0218|Office Supplies|       Paper|         4.98|          2.3406|\n",
            "|TEC-AC-10002857|   AA-10315|   Alex Avila|United States|      55407|Minnesota|             41.72|       7|     0.2|   5.7365|     Technology| Accessories|        4.768|          0.8195|\n",
            "|TEC-PH-10000895|   AA-10315|   Alex Avila|United States|      55407|Minnesota|           431.976|       3|     0.2|  32.3982|     Technology|      Phones|     115.1936|         10.7994|\n",
            "|OFF-FA-10001332|   AA-10315|   Alex Avila|United States|      55407|Minnesota|2.3040000000000003|       1|     0.2|   0.7776|Office Supplies|   Fasteners|       1.8432|          0.7776|\n",
            "|OFF-SU-10000151|   AA-10315|   Alex Avila|United States|      55407|Minnesota|          3930.072|       3|     0.2|-786.0144|Office Supplies|    Supplies|    1048.0192|       -262.0048|\n",
            "|OFF-AP-10002765|   AA-10315|   Alex Avila|United States|      55407|Minnesota|             52.98|       2|     0.0|  14.8344|Office Supplies|  Appliances|        26.49|          7.4172|\n",
            "|OFF-BI-10004390|   AA-10315|   Alex Avila|United States|      55407|Minnesota|           673.568|       2|     0.2|  252.588|Office Supplies|     Binders|     269.4272|         126.294|\n",
            "|OFF-ST-10001590|   AA-10315|   Alex Avila|United States|      55407|Minnesota|             26.96|       2|     0.0|   7.0096|Office Supplies|     Storage|        13.48|          3.5048|\n",
            "|OFF-BI-10004654|   AA-10315|   Alex Avila|United States|      55407|Minnesota|             11.54|       2|     0.0|     5.77|Office Supplies|     Binders|         5.77|           2.885|\n",
            "+---------------+-----------+-------------+-------------+-----------+---------+------------------+--------+--------+---------+---------------+------------+-------------+----------------+\n",
            "only showing top 10 rows\n",
            "\n"
          ]
        }
      ]
    },
    {
      "cell_type": "markdown",
      "source": [
        "**c. Coste Unitario: calculado como precio de venta unitario - beneficio unitario**"
      ],
      "metadata": {
        "id": "fYAM1i6Jraws"
      }
    },
    {
      "cell_type": "code",
      "source": [
        "midata4=midata3.withColumn('Coste_unidad',F.format_number(F.col('Precio_unidad')-F.col('Beneficio_unidad'),2))\n",
        "midata4.show()"
      ],
      "metadata": {
        "colab": {
          "base_uri": "https://localhost:8080/"
        },
        "id": "ZPNQGhk1mb4b",
        "outputId": "70cf7be4-0015-4281-a71c-be9512a37eaf"
      },
      "execution_count": null,
      "outputs": [
        {
          "output_type": "stream",
          "name": "stdout",
          "text": [
            "+---------------+-----------+-------------+-------------+-----------+---------+------------------+--------+--------+-----------------+---------------+------------+-------------+----------------+------------+\n",
            "|     Product ID|Customer ID|Customer Name|      Country|Postal Code|    State|             Sales|Quantity|Discount|           Profit|       Category|Sub-Category|Precio_unidad|Beneficio_unidad|Coste_unidad|\n",
            "+---------------+-----------+-------------+-------------+-----------+---------+------------------+--------+--------+-----------------+---------------+------------+-------------+----------------+------------+\n",
            "|FUR-FU-10002456|   AA-10315|   Alex Avila|United States|      55407|Minnesota|             14.56|       2|     0.0|           6.2608|      Furniture| Furnishings|         7.28|          3.1304|        4.15|\n",
            "|OFF-PA-10000349|   AA-10315|   Alex Avila|United States|      55407|Minnesota|             14.94|       3|     0.0|           7.0218|Office Supplies|       Paper|         4.98|          2.3406|        2.64|\n",
            "|TEC-AC-10002857|   AA-10315|   Alex Avila|United States|      55407|Minnesota|             41.72|       7|     0.2|           5.7365|     Technology| Accessories|        4.768|          0.8195|        3.95|\n",
            "|TEC-PH-10000895|   AA-10315|   Alex Avila|United States|      55407|Minnesota|           431.976|       3|     0.2|          32.3982|     Technology|      Phones|     115.1936|         10.7994|      104.39|\n",
            "|OFF-FA-10001332|   AA-10315|   Alex Avila|United States|      55407|Minnesota|2.3040000000000003|       1|     0.2|           0.7776|Office Supplies|   Fasteners|       1.8432|          0.7776|        1.07|\n",
            "|OFF-SU-10000151|   AA-10315|   Alex Avila|United States|      55407|Minnesota|          3930.072|       3|     0.2|        -786.0144|Office Supplies|    Supplies|    1048.0192|       -262.0048|    1,310.02|\n",
            "|OFF-AP-10002765|   AA-10315|   Alex Avila|United States|      55407|Minnesota|             52.98|       2|     0.0|          14.8344|Office Supplies|  Appliances|        26.49|          7.4172|       19.07|\n",
            "|OFF-BI-10004390|   AA-10315|   Alex Avila|United States|      55407|Minnesota|           673.568|       2|     0.2|          252.588|Office Supplies|     Binders|     269.4272|         126.294|      143.13|\n",
            "|OFF-ST-10001590|   AA-10315|   Alex Avila|United States|      55407|Minnesota|             26.96|       2|     0.0|           7.0096|Office Supplies|     Storage|        13.48|          3.5048|        9.98|\n",
            "|OFF-BI-10004654|   AA-10315|   Alex Avila|United States|      55407|Minnesota|             11.54|       2|     0.0|             5.77|Office Supplies|     Binders|         5.77|           2.885|        2.88|\n",
            "|OFF-AP-10000576|   AA-10315|   Alex Avila|United States|      55407|Minnesota|            362.94|       3|     0.0|           90.735|Office Supplies|  Appliances|       120.98|          30.245|       90.74|\n",
            "|OFF-PA-10000157|   AA-10375| Allen Armold|United States|      85204|  Arizona|             39.96|       2|     0.0|          18.7812|Office Supplies|       Paper|        19.98|          9.3906|       10.59|\n",
            "|OFF-PA-10002659|   AA-10375| Allen Armold|United States|      85204|  Arizona|              16.9|       5|     0.0|            7.774|Office Supplies|       Paper|         3.38|          1.5548|        1.83|\n",
            "|TEC-PH-10004522|   AA-10375| Allen Armold|United States|      85204|  Arizona|            116.98|       2|     0.0|           29.245|     Technology|      Phones|        58.49|         14.6225|       43.87|\n",
            "|OFF-PA-10002245|   AA-10375| Allen Armold|United States|      85204|  Arizona|             17.94|       3|     0.0|            8.073|Office Supplies|       Paper|         5.98|           2.691|        3.29|\n",
            "|OFF-BI-10002498|   AA-10375| Allen Armold|United States|      85204|  Arizona|            14.952|       1|     0.2|           5.0463|Office Supplies|     Binders|      11.9616|          5.0463|        6.92|\n",
            "|OFF-ST-10003572|   AA-10375| Allen Armold|United States|      85204|  Arizona|             84.96|       6|     0.2|6.372000000000001|Office Supplies|     Storage|       11.328|           1.062|       10.27|\n",
            "|OFF-BI-10002706|   AA-10375| Allen Armold|United States|      85204|  Arizona|            34.272|       3|     0.2|          11.1384|Office Supplies|     Binders|       9.1392|          3.7128|        5.43|\n",
            "|OFF-BI-10004970|   AA-10375| Allen Armold|United States|      85204|  Arizona|              8.26|       2|     0.0|           3.8822|Office Supplies|     Binders|         4.13|          1.9411|        2.19|\n",
            "|OFF-PA-10002479|   AA-10375| Allen Armold|United States|      85204|  Arizona|              5.28|       1|     0.0|            2.376|Office Supplies|       Paper|         5.28|           2.376|        2.90|\n",
            "+---------------+-----------+-------------+-------------+-----------+---------+------------------+--------+--------+-----------------+---------------+------------+-------------+----------------+------------+\n",
            "only showing top 20 rows\n",
            "\n"
          ]
        }
      ]
    },
    {
      "cell_type": "markdown",
      "source": [
        "**3.Desde control de gestión, dicen que hay que intentar ser rentables. Identifica la rentabilidad obtenida por cada categoria de producto (profit por categoria de producto) (1 pto)**"
      ],
      "metadata": {
        "id": "opWzoHtwrieL"
      }
    },
    {
      "cell_type": "code",
      "source": [
        "midata.groupby('Category').sum('Profit').show()"
      ],
      "metadata": {
        "colab": {
          "base_uri": "https://localhost:8080/"
        },
        "id": "UUUxnJiOnhnP",
        "outputId": "c96e15a4-8686-4629-9d34-52c742c1e05f"
      },
      "execution_count": null,
      "outputs": [
        {
          "output_type": "stream",
          "name": "stdout",
          "text": [
            "+---------------+------------------+\n",
            "|       Category|       sum(Profit)|\n",
            "+---------------+------------------+\n",
            "|Office Supplies|       122490.8008|\n",
            "|      Furniture|18451.272799999973|\n",
            "|     Technology|145454.94809999972|\n",
            "+---------------+------------------+\n",
            "\n"
          ]
        }
      ]
    },
    {
      "cell_type": "markdown",
      "source": [
        "Y podemos calcular también la media"
      ],
      "metadata": {
        "id": "jKOgv5-UrqPX"
      }
    },
    {
      "cell_type": "code",
      "source": [
        "midata.groupby('Category').mean('Profit').show()"
      ],
      "metadata": {
        "colab": {
          "base_uri": "https://localhost:8080/"
        },
        "id": "Rgkqtawxnhqf",
        "outputId": "709a9292-5a17-4b6b-c948-0bf52aa5b34b"
      },
      "execution_count": null,
      "outputs": [
        {
          "output_type": "stream",
          "name": "stdout",
          "text": [
            "+---------------+-----------------+\n",
            "|       Category|      avg(Profit)|\n",
            "+---------------+-----------------+\n",
            "|Office Supplies| 20.3270495851311|\n",
            "|      Furniture| 8.69932710985383|\n",
            "|     Technology|78.75200221981576|\n",
            "+---------------+-----------------+\n",
            "\n"
          ]
        }
      ]
    },
    {
      "cell_type": "markdown",
      "source": [
        "**4. Nos piden también que identifiquemos los productos a los que se le han aplicado descuento y han obtenido un beneficio negativo en la transacción (1 pto)**"
      ],
      "metadata": {
        "id": "xnnOdG4YsDOC"
      }
    },
    {
      "cell_type": "code",
      "source": [
        "midata1 = midata.where((F.col('Profit')<0) & ( midata.Discount>0)).select('Customer Name','Category','Sub-Category','Profit','Discount').sort(F.col('Profit').asc())\n",
        "midata1.show(10)"
      ],
      "metadata": {
        "colab": {
          "base_uri": "https://localhost:8080/"
        },
        "id": "eaxE8X_jnhtV",
        "outputId": "d100da85-02e2-48ca-e753-595b29551446"
      },
      "execution_count": null,
      "outputs": [
        {
          "output_type": "stream",
          "name": "stdout",
          "text": [
            "+----------------+---------------+------------+----------+--------+\n",
            "|   Customer Name|       Category|Sub-Category|    Profit|Discount|\n",
            "+----------------+---------------+------------+----------+--------+\n",
            "|   Cindy Stewart|     Technology|    Machines| -6599.978|     0.7|\n",
            "|  Grant Thornton|     Technology|    Machines|-3839.9904|     0.5|\n",
            "|     Luke Foster|Office Supplies|     Binders|-3701.8928|     0.8|\n",
            "|  Sharelle Roach|     Technology|    Machines|  -3399.98|     0.7|\n",
            "|   Henry Goldwyn|Office Supplies|     Binders|-2929.4845|     0.8|\n",
            "|Natalie Fritzler|     Technology|    Machines|-2639.9912|     0.7|\n",
            "|     Nathan Cano|Office Supplies|     Binders| -2287.782|     0.8|\n",
            "|     Joseph Holt|      Furniture|      Tables|-1862.3124|     0.4|\n",
            "|Zuschuss Carroll|Office Supplies|     Binders|-1850.9464|     0.8|\n",
            "|     Sean Miller|     Technology|    Machines|-1811.0784|     0.5|\n",
            "+----------------+---------------+------------+----------+--------+\n",
            "only showing top 10 rows\n",
            "\n"
          ]
        }
      ]
    },
    {
      "cell_type": "code",
      "source": [
        "midata1 = midata.where((F.col('Profit')<0) & ( midata.Discount>0)).select('Customer Name','Category','Sub-Category','Profit','Discount').sort(F.col('Discount').desc())\n",
        "midata1.show()"
      ],
      "metadata": {
        "colab": {
          "base_uri": "https://localhost:8080/"
        },
        "id": "VctC7ZIbyLIi",
        "outputId": "a9ca62e7-28f0-47a6-fa56-f7a4f66b8d72"
      },
      "execution_count": null,
      "outputs": [
        {
          "output_type": "stream",
          "name": "stdout",
          "text": [
            "+------------------+---------------+------------+-------------------+--------+\n",
            "|     Customer Name|       Category|Sub-Category|             Profit|Discount|\n",
            "+------------------+---------------+------------+-------------------+--------+\n",
            "|       Dean Braden|Office Supplies|     Binders|-21.168000000000003|     0.8|\n",
            "|     Sibella Parks|Office Supplies|  Appliances|          -126.8592|     0.8|\n",
            "|        Emily Phan|Office Supplies|     Binders|           -68.1856|     0.8|\n",
            "|     Harold Pawlan|Office Supplies|     Binders|-3.8160000000000003|     0.8|\n",
            "|         Dean Katz|Office Supplies|     Binders|            -17.046|     0.8|\n",
            "|      Rick Bensley|Office Supplies|     Binders|            -3.0396|     0.8|\n",
            "|Christina Anderson|Office Supplies|     Binders|            -14.773|     0.8|\n",
            "|  Jennifer Braxton|Office Supplies|  Appliances|            -131.12|     0.8|\n",
            "| Eugene Hildebrand|Office Supplies|     Binders|-3.4619999999999997|     0.8|\n",
            "|      Logan Currie|Office Supplies|  Appliances|          -178.9668|     0.8|\n",
            "| Cassandra Brandow|Office Supplies|     Binders|            -4.2222|     0.8|\n",
            "| Steven Cartwright|Office Supplies|     Binders|             -3.432|     0.8|\n",
            "|      Carol Darley|Office Supplies|  Appliances|             -7.392|     0.8|\n",
            "| Russell Applegate|Office Supplies|     Binders|           -18.8728|     0.8|\n",
            "|      Carol Darley|Office Supplies|     Binders|          -320.2395|     0.8|\n",
            "|    Craig Carreira|Office Supplies|     Binders|            -7.9002|     0.8|\n",
            "|     Phillina Ober|Office Supplies|     Binders|             -5.487|     0.8|\n",
            "|     Kelly Lampkin|Office Supplies|     Binders|           -14.5656|     0.8|\n",
            "|  Zuschuss Carroll|Office Supplies|     Binders|         -1850.9464|     0.8|\n",
            "|     Toby Swindell|Office Supplies|     Binders|            -1.8904|     0.8|\n",
            "+------------------+---------------+------------+-------------------+--------+\n",
            "only showing top 20 rows\n",
            "\n"
          ]
        }
      ]
    },
    {
      "cell_type": "markdown",
      "source": [
        "**5. Identifica a los clientes a los que se vendieron esos productos (los identificados en la pregunta 4) y calcula su rentabilidad media (1 pto)**"
      ],
      "metadata": {
        "id": "3mYXvjuasQah"
      }
    },
    {
      "cell_type": "code",
      "source": [
        "midata1.groupby('Customer Name').agg(F.mean('Profit').alias ('Media_profit')).sort(F.col('Media_profit').asc()).show()\n"
      ],
      "metadata": {
        "colab": {
          "base_uri": "https://localhost:8080/"
        },
        "id": "LunXJjfZnhwc",
        "outputId": "a85dabb3-7654-4a71-ef88-7cc635c43f17"
      },
      "execution_count": null,
      "outputs": [
        {
          "output_type": "stream",
          "name": "stdout",
          "text": [
            "+----------------+-------------------+\n",
            "|   Customer Name|       Media_profit|\n",
            "+----------------+-------------------+\n",
            "|   Cindy Stewart|          -3452.185|\n",
            "|  Grant Thornton|         -2093.5539|\n",
            "|     Joseph Holt|         -1862.3124|\n",
            "|   Tracy Hopkins|         -1306.5504|\n",
            "|    David Bremer|          -803.0835|\n",
            "|     Jim Radford| -786.7439999999999|\n",
            "|      Alex Avila|          -786.0144|\n",
            "|     Nathan Cano| -780.8848666666668|\n",
            "|  Sharelle Roach|         -693.42516|\n",
            "|   Henry Goldwyn| -599.7669000000001|\n",
            "|   Karen Daniels| -582.3095666666667|\n",
            "|     Daniel Lacy|          -571.9956|\n",
            "|Natalie Fritzler| -566.6939199999999|\n",
            "|     Luke Foster| -543.6498571428572|\n",
            "|Maureen Fritzler|          -459.9875|\n",
            "|        John Lee| -456.5733333333333|\n",
            "|     Sean Miller|           -415.392|\n",
            "|      Philip Fox|-407.68199999999996|\n",
            "|    Paul Knutson|          -403.8885|\n",
            "|     Olvera Toch| -402.7673333333334|\n",
            "+----------------+-------------------+\n",
            "only showing top 20 rows\n",
            "\n"
          ]
        }
      ]
    },
    {
      "cell_type": "code",
      "source": [
        "midata1.groupby('Customer Name','Category').agg(F.mean('Profit').alias ('Media_profit')).sort(F.col('Media_profit').asc()).show(25)"
      ],
      "metadata": {
        "colab": {
          "base_uri": "https://localhost:8080/"
        },
        "id": "qugGjiRhnhzk",
        "outputId": "7e80dfb2-7b08-45f7-e68c-b12ed7d6bfdf"
      },
      "execution_count": null,
      "outputs": [
        {
          "output_type": "stream",
          "name": "stdout",
          "text": [
            "+----------------+---------------+-------------------+\n",
            "|   Customer Name|       Category|       Media_profit|\n",
            "+----------------+---------------+-------------------+\n",
            "|   Cindy Stewart|     Technology|          -6599.978|\n",
            "|  Grant Thornton|     Technology|         -3839.9904|\n",
            "|  Sharelle Roach|     Technology|           -3399.98|\n",
            "|     Joseph Holt|      Furniture|         -1862.3124|\n",
            "|    Becky Martin|     Technology|-1359.9920000000002|\n",
            "|Natalie Fritzler|     Technology|         -1328.4946|\n",
            "|   Tracy Hopkins|Office Supplies|         -1306.5504|\n",
            "|     Nathan Cano|Office Supplies|         -1148.1274|\n",
            "|    David Bremer|Office Supplies|           -1141.47|\n",
            "|     Luke Foster|Office Supplies| -938.5393000000001|\n",
            "|  Laurel Beltran|     Technology|            -938.28|\n",
            "|     Sean Miller|     Technology|          -913.7522|\n",
            "|     Olvera Toch|Office Supplies|           -913.176|\n",
            "| Tracy Blumstein|      Furniture|          -893.9646|\n",
            "|   Tanja Norvell|      Furniture|          -814.4832|\n",
            "|     Jim Radford|      Furniture| -786.7439999999999|\n",
            "|      Alex Avila|Office Supplies|          -786.0144|\n",
            "|    Paul Knutson|Office Supplies|            -760.98|\n",
            "|   Henry Goldwyn|Office Supplies| -748.1616250000001|\n",
            "|   Karen Daniels|Office Supplies|         -741.00395|\n",
            "|  Anthony Jacobs|      Furniture|          -734.5264|\n",
            "|        John Lee|     Technology|          -661.4919|\n",
            "|    Rose O'Brian|Office Supplies| -622.5740000000001|\n",
            "|    Peter Fuller|Office Supplies|          -600.4224|\n",
            "|     Daniel Lacy|     Technology|          -571.9956|\n",
            "+----------------+---------------+-------------------+\n",
            "only showing top 25 rows\n",
            "\n"
          ]
        }
      ]
    },
    {
      "cell_type": "markdown",
      "source": [
        "**6. Si quisiéramos obtener un beneficio unitario de un 50% sobre el coste unitario en estos productos, ¿cuál habría sido el precio de venta unitario con y sin descuento del 10%? (2 pts)**"
      ],
      "metadata": {
        "id": "uswM05pv461E"
      }
    },
    {
      "cell_type": "markdown",
      "source": [
        "### **Con 0% descuento**"
      ],
      "metadata": {
        "id": "pB7uzJMmi8Fg"
      }
    },
    {
      "cell_type": "code",
      "source": [
        "midata4.show(5)"
      ],
      "metadata": {
        "colab": {
          "base_uri": "https://localhost:8080/"
        },
        "id": "hM8V4-qBnh2s",
        "outputId": "93fe27ba-033d-48d9-87f3-eb6761183d44"
      },
      "execution_count": null,
      "outputs": [
        {
          "output_type": "stream",
          "name": "stdout",
          "text": [
            "+---------------+-----------+-------------+-------------+-----------+---------+------------------+--------+--------+-------+---------------+------------+-------------+----------------+------------+\n",
            "|     Product ID|Customer ID|Customer Name|      Country|Postal Code|    State|             Sales|Quantity|Discount| Profit|       Category|Sub-Category|Precio_unidad|Beneficio_unidad|Coste_unidad|\n",
            "+---------------+-----------+-------------+-------------+-----------+---------+------------------+--------+--------+-------+---------------+------------+-------------+----------------+------------+\n",
            "|FUR-FU-10002456|   AA-10315|   Alex Avila|United States|      55407|Minnesota|             14.56|       2|     0.0| 6.2608|      Furniture| Furnishings|         7.28|          3.1304|        4.15|\n",
            "|OFF-PA-10000349|   AA-10315|   Alex Avila|United States|      55407|Minnesota|             14.94|       3|     0.0| 7.0218|Office Supplies|       Paper|         4.98|          2.3406|        2.64|\n",
            "|TEC-AC-10002857|   AA-10315|   Alex Avila|United States|      55407|Minnesota|             41.72|       7|     0.2| 5.7365|     Technology| Accessories|        4.768|          0.8195|        3.95|\n",
            "|TEC-PH-10000895|   AA-10315|   Alex Avila|United States|      55407|Minnesota|           431.976|       3|     0.2|32.3982|     Technology|      Phones|     115.1936|         10.7994|      104.39|\n",
            "|OFF-FA-10001332|   AA-10315|   Alex Avila|United States|      55407|Minnesota|2.3040000000000003|       1|     0.2| 0.7776|Office Supplies|   Fasteners|       1.8432|          0.7776|        1.07|\n",
            "+---------------+-----------+-------------+-------------+-----------+---------+------------------+--------+--------+-------+---------------+------------+-------------+----------------+------------+\n",
            "only showing top 5 rows\n",
            "\n"
          ]
        }
      ]
    },
    {
      "cell_type": "code",
      "source": [
        "midata5 = midata4.select('*',lit('0.1').alias('Descuento')).drop('Discount')\n",
        "midata5.show()"
      ],
      "metadata": {
        "colab": {
          "base_uri": "https://localhost:8080/"
        },
        "id": "GTzkZbeCnh9M",
        "outputId": "848d0ce5-b5a1-401e-e99e-99ec81edcc1c"
      },
      "execution_count": null,
      "outputs": [
        {
          "output_type": "stream",
          "name": "stdout",
          "text": [
            "+---------------+-----------+-------------+-------------+-----------+---------+------------------+--------+-----------------+---------------+------------+-------------+----------------+------------+---------+\n",
            "|     Product ID|Customer ID|Customer Name|      Country|Postal Code|    State|             Sales|Quantity|           Profit|       Category|Sub-Category|Precio_unidad|Beneficio_unidad|Coste_unidad|Descuento|\n",
            "+---------------+-----------+-------------+-------------+-----------+---------+------------------+--------+-----------------+---------------+------------+-------------+----------------+------------+---------+\n",
            "|FUR-FU-10002456|   AA-10315|   Alex Avila|United States|      55407|Minnesota|             14.56|       2|           6.2608|      Furniture| Furnishings|         7.28|          3.1304|        4.15|      0.1|\n",
            "|OFF-PA-10000349|   AA-10315|   Alex Avila|United States|      55407|Minnesota|             14.94|       3|           7.0218|Office Supplies|       Paper|         4.98|          2.3406|        2.64|      0.1|\n",
            "|TEC-AC-10002857|   AA-10315|   Alex Avila|United States|      55407|Minnesota|             41.72|       7|           5.7365|     Technology| Accessories|        4.768|          0.8195|        3.95|      0.1|\n",
            "|TEC-PH-10000895|   AA-10315|   Alex Avila|United States|      55407|Minnesota|           431.976|       3|          32.3982|     Technology|      Phones|     115.1936|         10.7994|      104.39|      0.1|\n",
            "|OFF-FA-10001332|   AA-10315|   Alex Avila|United States|      55407|Minnesota|2.3040000000000003|       1|           0.7776|Office Supplies|   Fasteners|       1.8432|          0.7776|        1.07|      0.1|\n",
            "|OFF-SU-10000151|   AA-10315|   Alex Avila|United States|      55407|Minnesota|          3930.072|       3|        -786.0144|Office Supplies|    Supplies|    1048.0192|       -262.0048|    1,310.02|      0.1|\n",
            "|OFF-AP-10002765|   AA-10315|   Alex Avila|United States|      55407|Minnesota|             52.98|       2|          14.8344|Office Supplies|  Appliances|        26.49|          7.4172|       19.07|      0.1|\n",
            "|OFF-BI-10004390|   AA-10315|   Alex Avila|United States|      55407|Minnesota|           673.568|       2|          252.588|Office Supplies|     Binders|     269.4272|         126.294|      143.13|      0.1|\n",
            "|OFF-ST-10001590|   AA-10315|   Alex Avila|United States|      55407|Minnesota|             26.96|       2|           7.0096|Office Supplies|     Storage|        13.48|          3.5048|        9.98|      0.1|\n",
            "|OFF-BI-10004654|   AA-10315|   Alex Avila|United States|      55407|Minnesota|             11.54|       2|             5.77|Office Supplies|     Binders|         5.77|           2.885|        2.88|      0.1|\n",
            "|OFF-AP-10000576|   AA-10315|   Alex Avila|United States|      55407|Minnesota|            362.94|       3|           90.735|Office Supplies|  Appliances|       120.98|          30.245|       90.74|      0.1|\n",
            "|OFF-PA-10000157|   AA-10375| Allen Armold|United States|      85204|  Arizona|             39.96|       2|          18.7812|Office Supplies|       Paper|        19.98|          9.3906|       10.59|      0.1|\n",
            "|OFF-PA-10002659|   AA-10375| Allen Armold|United States|      85204|  Arizona|              16.9|       5|            7.774|Office Supplies|       Paper|         3.38|          1.5548|        1.83|      0.1|\n",
            "|TEC-PH-10004522|   AA-10375| Allen Armold|United States|      85204|  Arizona|            116.98|       2|           29.245|     Technology|      Phones|        58.49|         14.6225|       43.87|      0.1|\n",
            "|OFF-PA-10002245|   AA-10375| Allen Armold|United States|      85204|  Arizona|             17.94|       3|            8.073|Office Supplies|       Paper|         5.98|           2.691|        3.29|      0.1|\n",
            "|OFF-BI-10002498|   AA-10375| Allen Armold|United States|      85204|  Arizona|            14.952|       1|           5.0463|Office Supplies|     Binders|      11.9616|          5.0463|        6.92|      0.1|\n",
            "|OFF-ST-10003572|   AA-10375| Allen Armold|United States|      85204|  Arizona|             84.96|       6|6.372000000000001|Office Supplies|     Storage|       11.328|           1.062|       10.27|      0.1|\n",
            "|OFF-BI-10002706|   AA-10375| Allen Armold|United States|      85204|  Arizona|            34.272|       3|          11.1384|Office Supplies|     Binders|       9.1392|          3.7128|        5.43|      0.1|\n",
            "|OFF-BI-10004970|   AA-10375| Allen Armold|United States|      85204|  Arizona|              8.26|       2|           3.8822|Office Supplies|     Binders|         4.13|          1.9411|        2.19|      0.1|\n",
            "|OFF-PA-10002479|   AA-10375| Allen Armold|United States|      85204|  Arizona|              5.28|       1|            2.376|Office Supplies|       Paper|         5.28|           2.376|        2.90|      0.1|\n",
            "+---------------+-----------+-------------+-------------+-----------+---------+------------------+--------+-----------------+---------------+------------+-------------+----------------+------------+---------+\n",
            "only showing top 20 rows\n",
            "\n"
          ]
        }
      ]
    },
    {
      "cell_type": "code",
      "source": [
        "midata6=midata5.withColumn(('Precio_unidad_0'),F.col('Coste_unidad')*1.5).select('Coste_unidad','Precio_unidad_0')\n",
        "midata6.show(10)"
      ],
      "metadata": {
        "colab": {
          "base_uri": "https://localhost:8080/"
        },
        "id": "bVh5otxAniAN",
        "outputId": "0f5dd0d0-1d7d-444d-d19a-8c83ab9ebed8"
      },
      "execution_count": null,
      "outputs": [
        {
          "output_type": "stream",
          "name": "stdout",
          "text": [
            "+------------+------------------+\n",
            "|Coste_unidad|   Precio_unidad_0|\n",
            "+------------+------------------+\n",
            "|      114.80|             172.2|\n",
            "|      299.43|           449.145|\n",
            "|      314.06|471.09000000000003|\n",
            "|        1.66|2.4899999999999998|\n",
            "|      169.19|           253.785|\n",
            "|       19.75|            29.625|\n",
            "|        1.29|             1.935|\n",
            "|        0.55|0.8250000000000001|\n",
            "|        2.35|3.5250000000000004|\n",
            "|       28.03|            42.045|\n",
            "+------------+------------------+\n",
            "only showing top 10 rows\n",
            "\n"
          ]
        }
      ]
    },
    {
      "cell_type": "markdown",
      "source": [
        "En este ejercicio tengo muchas dudas ya que\n",
        "\n",
        "precio unitario = (ventas - (ventas*descuento))/cantidad\n",
        "\n",
        "beneficio unitario= beneficio/cantidad (ahora fijo = 0.5coste unitario)\n",
        "\n",
        "coste unitario =precio unitario - beneficio unitario\n",
        "\n",
        "coste unitario = precio unitario - 0.5coste unitario -> precio unitario = 1.5 coste unitario\n",
        "\n",
        "Pero es que el coste unitario que tenemos ya calculado incluye el descuento anterior, así que si lo calculo cómo he hecho incluye el descuento del dataframe primero. También lo he calculado sobre el original, donde ya había productos con 0% de descuento, en estos el precio unitario sale menor que el original claro.\n",
        "\n",
        "\n"
      ],
      "metadata": {
        "id": "VuVhOSG9-R6d"
      }
    },
    {
      "cell_type": "markdown",
      "source": [
        "### **Con 10% descuento**"
      ],
      "metadata": {
        "id": "FBrLT8ZCiyFL"
      }
    },
    {
      "cell_type": "code",
      "source": [
        "midata_df=midata6.withColumn(('Precio_unidad_0.1'),F.col('Precio_unidad_0')-(F.col('Precio_unidad_0')*0.1))\n",
        "midata_df.show()"
      ],
      "metadata": {
        "colab": {
          "base_uri": "https://localhost:8080/"
        },
        "id": "iHi5uxgWdXnp",
        "outputId": "b8a77ce8-7313-456c-ccec-52effd1faa05"
      },
      "execution_count": null,
      "outputs": [
        {
          "output_type": "stream",
          "name": "stdout",
          "text": [
            "+------------+------------------+------------------+\n",
            "|Coste_unidad|   Precio_unidad_0| Precio_unidad_0.1|\n",
            "+------------+------------------+------------------+\n",
            "|      114.80|             172.2|            154.98|\n",
            "|      299.43|           449.145|          404.2305|\n",
            "|      314.06|471.09000000000003|           423.981|\n",
            "|        1.66|2.4899999999999998|2.2409999999999997|\n",
            "|      169.19|           253.785|          228.4065|\n",
            "|       19.75|            29.625|           26.6625|\n",
            "|        1.29|             1.935|            1.7415|\n",
            "|        0.55|0.8250000000000001|            0.7425|\n",
            "|        2.35|3.5250000000000004|3.1725000000000003|\n",
            "|       28.03|            42.045|           37.8405|\n",
            "|       45.39| 68.08500000000001|61.276500000000006|\n",
            "|        1.25|             1.875|            1.6875|\n",
            "|        1.33|             1.995|            1.7955|\n",
            "|       33.59|50.385000000000005|45.346500000000006|\n",
            "|      145.20|217.79999999999998|196.01999999999998|\n",
            "|       17.50|             26.25|            23.625|\n",
            "|       94.11|           141.165|127.04849999999999|\n",
            "|        5.03|             7.545|            6.7905|\n",
            "|        9.68|             14.52|            13.068|\n",
            "|        9.89|            14.835|13.351500000000001|\n",
            "+------------+------------------+------------------+\n",
            "only showing top 20 rows\n",
            "\n"
          ]
        }
      ]
    },
    {
      "cell_type": "markdown",
      "source": [
        "**7. El presidente Johnny Walker se ha levantado generoso por su cumpleaños. Quiere regalar sendos (dos!) vales para un viaje al Caribe al cliente más rentable y al cliente más fiel (medido en número de transacciones) de Florida (2 pto).**"
      ],
      "metadata": {
        "id": "_e4QmbFmFHuh"
      }
    },
    {
      "cell_type": "code",
      "source": [
        "midata7= midata.groupBy('Customer ID','State').sum('Profit')\n",
        "midata7.show(10)"
      ],
      "metadata": {
        "colab": {
          "base_uri": "https://localhost:8080/"
        },
        "id": "M8BNJf73FTTg",
        "outputId": "07b19ea4-5db8-4ad6-b619-c7d51b76d948"
      },
      "execution_count": null,
      "outputs": [
        {
          "output_type": "stream",
          "name": "stdout",
          "text": [
            "+-----------+--------------+-------------------+\n",
            "|Customer ID|         State|        sum(Profit)|\n",
            "+-----------+--------------+-------------------+\n",
            "|   AA-10315|     Minnesota|-362.88250000000016|\n",
            "|   AA-10375|       Arizona|           277.3824|\n",
            "|   AA-10480|North Carolina| 435.82739999999995|\n",
            "|   AA-10645|  Pennsylvania|  857.8033000000001|\n",
            "|   AB-10015|    Washington|           129.3465|\n",
            "|   AB-10060|      New York|          2054.5885|\n",
            "|   AB-10105|       Arizona| 5444.8054999999995|\n",
            "|   AB-10150|      New York| 313.65969999999993|\n",
            "|   AB-10165|    California| 220.81300000000002|\n",
            "|   AB-10255|          Ohio| 264.56750000000005|\n",
            "+-----------+--------------+-------------------+\n",
            "only showing top 10 rows\n",
            "\n"
          ]
        }
      ]
    },
    {
      "cell_type": "code",
      "source": [
        "midata8 = midata7.filter((midata7.State == 'Florida')).select('Customer ID', F.col('State').alias('Estado'), F.col('sum(Profit)').alias('Más rentable')).sort(F.col('Más rentable').desc())\n",
        "midata8.show()"
      ],
      "metadata": {
        "colab": {
          "base_uri": "https://localhost:8080/"
        },
        "id": "XN0uuzlGFTY1",
        "outputId": "10bed1a9-a613-475c-a064-1ea6d23bd46f"
      },
      "execution_count": null,
      "outputs": [
        {
          "output_type": "stream",
          "name": "stdout",
          "text": [
            "+-----------+-------+-------------------+\n",
            "|Customer ID| Estado|       Más rentable|\n",
            "+-----------+-------+-------------------+\n",
            "|   AJ-10795|Florida|          1158.7064|\n",
            "|   SC-20695|Florida|           611.8291|\n",
            "|   AP-10915|Florida|           579.3113|\n",
            "|   SL-20155|Florida|  527.9715000000001|\n",
            "|   DB-12910|Florida|           431.3748|\n",
            "|   BW-11200|Florida| 246.99729999999997|\n",
            "|   ES-14080|Florida| 246.66610000000006|\n",
            "|   MK-18160|Florida|           227.8338|\n",
            "|   RD-19720|Florida|           207.3304|\n",
            "|   CA-12775|Florida| 204.48950000000002|\n",
            "|   KN-16450|Florida|           114.3083|\n",
            "|   DB-13555|Florida|            109.327|\n",
            "|   JR-15700|Florida|            107.985|\n",
            "|   HJ-14875|Florida|            98.6548|\n",
            "|   PH-18790|Florida|            47.8878|\n",
            "|   AS-10240|Florida| 33.715799999999994|\n",
            "|   LW-16825|Florida|            32.5767|\n",
            "|   RH-19555|Florida|0.30570000000000075|\n",
            "|   MG-18205|Florida|            -1.2453|\n",
            "|   DO-13435|Florida| -38.90860000000001|\n",
            "+-----------+-------+-------------------+\n",
            "only showing top 20 rows\n",
            "\n"
          ]
        }
      ]
    },
    {
      "cell_type": "markdown",
      "source": [
        "### **Ya lo tenemos: El cliente más rentable es**\n",
        "\n",
        "### *   Customer ID = AJ-10795\n",
        "### *   Beneficio = 1158.7064\n",
        "\n",
        "\n",
        "\n"
      ],
      "metadata": {
        "id": "_CyGNyXjWzoT"
      }
    },
    {
      "cell_type": "code",
      "source": [
        "midata9= midata.groupBy('Customer ID','State').count()\n",
        "midata9.show(10)"
      ],
      "metadata": {
        "colab": {
          "base_uri": "https://localhost:8080/"
        },
        "id": "1hyi-5c7YL_Q",
        "outputId": "5412059d-ddc0-4b78-a2d8-2ea983549ed8"
      },
      "execution_count": null,
      "outputs": [
        {
          "output_type": "stream",
          "name": "stdout",
          "text": [
            "+-----------+--------------+-----+\n",
            "|Customer ID|         State|count|\n",
            "+-----------+--------------+-----+\n",
            "|   AA-10315|     Minnesota|   11|\n",
            "|   AA-10375|       Arizona|   15|\n",
            "|   AA-10480|North Carolina|   12|\n",
            "|   AA-10645|  Pennsylvania|   18|\n",
            "|   AB-10015|    Washington|    6|\n",
            "|   AB-10060|      New York|   18|\n",
            "|   AB-10105|       Arizona|   20|\n",
            "|   AB-10150|      New York|   12|\n",
            "|   AB-10165|    California|   14|\n",
            "|   AB-10255|          Ohio|   14|\n",
            "+-----------+--------------+-----+\n",
            "only showing top 10 rows\n",
            "\n"
          ]
        }
      ]
    },
    {
      "cell_type": "code",
      "source": [
        "midata10 = midata9.filter((midata9.State == 'Florida')).select('Customer ID', F.col('State').alias('Estado'), F.col('count').alias('Transaciones')).sort(F.col('Transaciones').desc())\n",
        "midata10.show()"
      ],
      "metadata": {
        "colab": {
          "base_uri": "https://localhost:8080/"
        },
        "id": "qPm1XQapYMMd",
        "outputId": "b08d2f86-067a-4e05-f168-d62cec7e6160"
      },
      "execution_count": null,
      "outputs": [
        {
          "output_type": "stream",
          "name": "stdout",
          "text": [
            "+-----------+-------+------------+\n",
            "|Customer ID| Estado|Transaciones|\n",
            "+-----------+-------+------------+\n",
            "|   AP-10915|Florida|          31|\n",
            "|   AJ-10795|Florida|          21|\n",
            "|   ES-14080|Florida|          20|\n",
            "|   RD-19720|Florida|          20|\n",
            "|   CA-12775|Florida|          17|\n",
            "|   LF-17185|Florida|          16|\n",
            "|   LW-16825|Florida|          15|\n",
            "|   SO-20335|Florida|          15|\n",
            "|   DB-13555|Florida|          14|\n",
            "|   SC-20695|Florida|          14|\n",
            "|   DO-13435|Florida|          13|\n",
            "|   AS-10240|Florida|          13|\n",
            "|   DB-12910|Florida|          12|\n",
            "|   MK-18160|Florida|          11|\n",
            "|   BW-11200|Florida|          10|\n",
            "|   AG-10525|Florida|           9|\n",
            "|   SL-20155|Florida|           9|\n",
            "|   AH-10195|Florida|           8|\n",
            "|   KN-16450|Florida|           8|\n",
            "|   HJ-14875|Florida|           6|\n",
            "+-----------+-------+------------+\n",
            "only showing top 20 rows\n",
            "\n"
          ]
        }
      ]
    },
    {
      "cell_type": "markdown",
      "source": [
        "### **Ya lo tenemos: El cliente más fiel es**\n",
        "\n",
        "### *   Customer ID = AP-10915\n",
        "### *   Transaciones = 31\n"
      ],
      "metadata": {
        "id": "Q28TClQhcybo"
      }
    }
  ]
}